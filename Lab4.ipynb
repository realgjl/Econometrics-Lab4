{
  "cells": [
    {
      "cell_type": "markdown",
      "source": "### Welcome to lab 4: Data analysis with Python\n### For this lab we will be using the data from tutorial 8, which contains key financial information for USA",
      "metadata": {
        "tags": [],
        "cell_id": "00001-659568da-5a16-4441-96f0-d36d20ef3ae7",
        "deepnote_cell_type": "markdown"
      }
    },
    {
      "cell_type": "markdown",
      "source": "### While the basic version of Python has a lot of great functions, oftentimes you will find yourself needing more sophisticated tools\n### There exist many packages that can help you with data analysis and today we will be looking at and use some of the basics",
      "metadata": {
        "cell_id": "00002-b8a314b5-ac38-4184-8c07-cb18ab120835",
        "deepnote_cell_type": "markdown"
      }
    },
    {
      "cell_type": "markdown",
      "source": "### Pandas is your go-to for anything related to data; it is a great package for structuring data as a matrix and helps with basic data manipulation\n### numpy is a library that contains many very useful functions for matrix and vectorised data",
      "metadata": {
        "cell_id": "00003-4625871e-4ce3-4a96-a49e-77ed0cbe84d2",
        "deepnote_cell_type": "markdown"
      }
    },
    {
      "cell_type": "code",
      "metadata": {
        "cell_id": "00004-a345089a-8708-48d2-af16-8fb6abce8580",
        "deepnote_to_be_reexecuted": false,
        "source_hash": "b7300e84",
        "execution_millis": 1,
        "execution_start": 1619186953990,
        "deepnote_cell_type": "code"
      },
      "source": "import pandas as pd ",
      "execution_count": 58,
      "outputs": []
    },
    {
      "cell_type": "markdown",
      "source": "### Matplotlib is Python's attempt at ggplot2 and allows you to produce graphs\n### seaborn is a similar library made specifically for visualising statistical data",
      "metadata": {
        "cell_id": "00005-842e3d31-8d5f-4ea4-8e8e-d75add3fa1a6",
        "deepnote_cell_type": "markdown"
      }
    },
    {
      "cell_type": "code",
      "metadata": {
        "cell_id": "00006-d0a261c4-58ce-4b3d-945d-71bef2f2bc00",
        "deepnote_to_be_reexecuted": false,
        "source_hash": "6a77453d",
        "execution_millis": 0,
        "execution_start": 1619186953991,
        "deepnote_cell_type": "code"
      },
      "source": "import matplotlib.pyplot as plt",
      "execution_count": 59,
      "outputs": []
    },
    {
      "cell_type": "markdown",
      "source": "### statsmodels is a library for some more \"traditional\" statistical analysis\n### There are many more like scipy (mathematics, science, engineering) and scikit-learn (machine learning)",
      "metadata": {
        "cell_id": "00007-df6c532c-4a69-4fa0-ba1a-09917b6e83a0",
        "deepnote_cell_type": "markdown"
      }
    },
    {
      "cell_type": "code",
      "metadata": {
        "cell_id": "00008-d2516d79-656d-4231-883d-f5efaac56d9b",
        "deepnote_to_be_reexecuted": false,
        "source_hash": "3fc3e753",
        "execution_millis": 0,
        "execution_start": 1619186953992,
        "deepnote_cell_type": "code"
      },
      "source": "import statsmodels.api as sm\nfrom statsmodels.tsa.statespace.tools import diff\nfrom sklearn import linear_model",
      "execution_count": 60,
      "outputs": []
    },
    {
      "cell_type": "markdown",
      "source": "### Some packages have rather long names, which is cumbersome when you want to call functions within the package, so you can give them an alias via the \"as\" statement",
      "metadata": {
        "cell_id": "00009-fe917ff5-4720-44cd-8446-01da9d88f98e",
        "deepnote_cell_type": "markdown"
      }
    },
    {
      "cell_type": "markdown",
      "source": "### Set up your working directory and data",
      "metadata": {
        "cell_id": "00010-cd798a1f-2037-4e0d-9649-cdb6d6059fbe",
        "deepnote_cell_type": "markdown"
      }
    },
    {
      "cell_type": "code",
      "metadata": {
        "cell_id": "00011-483bf82a-30a5-42bb-aea2-efeb99c598cc",
        "deepnote_to_be_reexecuted": false,
        "source_hash": "146a2e00",
        "execution_millis": 1,
        "execution_start": 1619186953992,
        "deepnote_cell_type": "code"
      },
      "source": "data = 'lesson8_data.xls'",
      "execution_count": 61,
      "outputs": []
    },
    {
      "cell_type": "markdown",
      "source": "### let's load the data into a data frame using pandas",
      "metadata": {
        "cell_id": "00012-f6185d8c-21e4-4f94-846f-0e3a90790e6f",
        "deepnote_cell_type": "markdown"
      }
    },
    {
      "cell_type": "code",
      "metadata": {
        "cell_id": "00013-2324a49b-51db-4260-9bc8-c39ebd701621",
        "deepnote_to_be_reexecuted": false,
        "source_hash": "fdd90db",
        "execution_millis": 21,
        "execution_start": 1619186953996,
        "deepnote_cell_type": "code"
      },
      "source": "df = pd.read_excel(data)",
      "execution_count": 62,
      "outputs": []
    },
    {
      "cell_type": "markdown",
      "source": "### pandas can handle most data types available, such as csvs (any delineation), xlsx (excel), dta (stata), and so on\n### now let's have a look at the data inside the data frame\n### the .head() method returns the first five entries in your data frame",
      "metadata": {
        "cell_id": "00014-bbe8b863-47df-4cff-97e5-e8347ae2c375",
        "deepnote_cell_type": "markdown"
      }
    },
    {
      "cell_type": "code",
      "metadata": {
        "cell_id": "00015-b1e5e10f-6f0a-4bd9-9ef4-6ee6b185ed28",
        "deepnote_to_be_reexecuted": false,
        "source_hash": "4a471a06",
        "execution_millis": 0,
        "execution_start": 1619186954020,
        "deepnote_cell_type": "code"
      },
      "source": "df_head = df.head() ",
      "execution_count": 63,
      "outputs": []
    },
    {
      "cell_type": "markdown",
      "source": "### for small data such as this isn't super useful, but once the data gets large it might be helpful to inspect a small subset first",
      "metadata": {
        "cell_id": "00016-92777bdf-6648-42e2-bde8-8c17394c267a",
        "deepnote_cell_type": "markdown"
      }
    },
    {
      "cell_type": "markdown",
      "source": "### if you want to get the columns of the data frame, you can call on the columns property",
      "metadata": {
        "cell_id": "00017-c2e922f8-c4ab-4c3c-9f9c-9f0a14065b9f",
        "deepnote_cell_type": "markdown"
      }
    },
    {
      "cell_type": "code",
      "metadata": {
        "cell_id": "00018-30f4c4b6-9296-41ad-a2d2-314c2d0cd600",
        "deepnote_to_be_reexecuted": false,
        "source_hash": "25d43fa0",
        "execution_millis": 6,
        "execution_start": 1619186954066,
        "deepnote_cell_type": "code"
      },
      "source": "df.columns",
      "execution_count": 64,
      "outputs": [
        {
          "output_type": "execute_result",
          "execution_count": 64,
          "data": {
            "text/plain": "Index(['DATE', 'FFR', 'Tbill', 'Tb1yr', 'r5', 'r10', 'PPINSA', 'Finished',\n       'CPI', 'CPICORE', 'M1NSA', 'M2SA', 'M2NSA', 'Unemp', 'IndProd', 'RGDP',\n       'Potent', 'Deflator', 'Curr'],\n      dtype='object')"
          },
          "metadata": {}
        }
      ]
    },
    {
      "cell_type": "markdown",
      "source": "### the .describe() method gives you the basic summary statistics for numeric columns",
      "metadata": {
        "cell_id": "00019-b298bbe2-1cc2-4481-85ea-1b16038374d4",
        "deepnote_cell_type": "markdown"
      }
    },
    {
      "cell_type": "code",
      "metadata": {
        "cell_id": "00020-dcaf01b2-18d4-461f-a25b-c3257773d8c6",
        "deepnote_to_be_reexecuted": false,
        "source_hash": "f88152d9",
        "execution_millis": 67,
        "execution_start": 1619186954067,
        "deepnote_cell_type": "code"
      },
      "source": "df.describe()",
      "execution_count": 65,
      "outputs": [
        {
          "output_type": "execute_result",
          "execution_count": 65,
          "data": {
            "application/vnd.deepnote.dataframe.v2+json": {
              "row_count": 8,
              "column_count": 18,
              "columns": [
                {
                  "name": "FFR",
                  "dtype": "float64",
                  "stats": {
                    "unique_count": 8,
                    "nan_count": 0,
                    "min": "0.07",
                    "max": "212.0",
                    "histogram": [
                      {
                        "bin_start": 0.07,
                        "bin_end": 21.263,
                        "count": 7
                      },
                      {
                        "bin_start": 21.263,
                        "bin_end": 42.456,
                        "count": 0
                      },
                      {
                        "bin_start": 42.456,
                        "bin_end": 63.64900000000001,
                        "count": 0
                      },
                      {
                        "bin_start": 63.64900000000001,
                        "bin_end": 84.842,
                        "count": 0
                      },
                      {
                        "bin_start": 84.842,
                        "bin_end": 106.035,
                        "count": 0
                      },
                      {
                        "bin_start": 106.035,
                        "bin_end": 127.22800000000001,
                        "count": 0
                      },
                      {
                        "bin_start": 127.22800000000001,
                        "bin_end": 148.421,
                        "count": 0
                      },
                      {
                        "bin_start": 148.421,
                        "bin_end": 169.614,
                        "count": 0
                      },
                      {
                        "bin_start": 169.614,
                        "bin_end": 190.80700000000002,
                        "count": 0
                      },
                      {
                        "bin_start": 190.80700000000002,
                        "bin_end": 212,
                        "count": 1
                      }
                    ]
                  }
                },
                {
                  "name": "Tbill",
                  "dtype": "float64",
                  "stats": {
                    "unique_count": 8,
                    "nan_count": 0,
                    "min": "0.01",
                    "max": "212.0",
                    "histogram": [
                      {
                        "bin_start": 0.01,
                        "bin_end": 21.209000000000003,
                        "count": 7
                      },
                      {
                        "bin_start": 21.209000000000003,
                        "bin_end": 42.408,
                        "count": 0
                      },
                      {
                        "bin_start": 42.408,
                        "bin_end": 63.607000000000006,
                        "count": 0
                      },
                      {
                        "bin_start": 63.607000000000006,
                        "bin_end": 84.80600000000001,
                        "count": 0
                      },
                      {
                        "bin_start": 84.80600000000001,
                        "bin_end": 106.00500000000001,
                        "count": 0
                      },
                      {
                        "bin_start": 106.00500000000001,
                        "bin_end": 127.20400000000002,
                        "count": 0
                      },
                      {
                        "bin_start": 127.20400000000002,
                        "bin_end": 148.403,
                        "count": 0
                      },
                      {
                        "bin_start": 148.403,
                        "bin_end": 169.602,
                        "count": 0
                      },
                      {
                        "bin_start": 169.602,
                        "bin_end": 190.80100000000002,
                        "count": 0
                      },
                      {
                        "bin_start": 190.80100000000002,
                        "bin_end": 212,
                        "count": 1
                      }
                    ]
                  }
                },
                {
                  "name": "Tb1yr",
                  "dtype": "float64",
                  "stats": {
                    "unique_count": 8,
                    "nan_count": 0,
                    "min": "0.11",
                    "max": "212.0",
                    "histogram": [
                      {
                        "bin_start": 0.11,
                        "bin_end": 21.299,
                        "count": 7
                      },
                      {
                        "bin_start": 21.299,
                        "bin_end": 42.488,
                        "count": 0
                      },
                      {
                        "bin_start": 42.488,
                        "bin_end": 63.677,
                        "count": 0
                      },
                      {
                        "bin_start": 63.677,
                        "bin_end": 84.866,
                        "count": 0
                      },
                      {
                        "bin_start": 84.866,
                        "bin_end": 106.05499999999999,
                        "count": 0
                      },
                      {
                        "bin_start": 106.05499999999999,
                        "bin_end": 127.244,
                        "count": 0
                      },
                      {
                        "bin_start": 127.244,
                        "bin_end": 148.43300000000002,
                        "count": 0
                      },
                      {
                        "bin_start": 148.43300000000002,
                        "bin_end": 169.622,
                        "count": 0
                      },
                      {
                        "bin_start": 169.622,
                        "bin_end": 190.811,
                        "count": 0
                      },
                      {
                        "bin_start": 190.811,
                        "bin_end": 212,
                        "count": 1
                      }
                    ]
                  }
                },
                {
                  "name": "r5",
                  "dtype": "float64",
                  "stats": {
                    "unique_count": 8,
                    "nan_count": 0,
                    "min": "0.67",
                    "max": "212.0",
                    "histogram": [
                      {
                        "bin_start": 0.67,
                        "bin_end": 21.803000000000004,
                        "count": 7
                      },
                      {
                        "bin_start": 21.803000000000004,
                        "bin_end": 42.93600000000001,
                        "count": 0
                      },
                      {
                        "bin_start": 42.93600000000001,
                        "bin_end": 64.069,
                        "count": 0
                      },
                      {
                        "bin_start": 64.069,
                        "bin_end": 85.20200000000001,
                        "count": 0
                      },
                      {
                        "bin_start": 85.20200000000001,
                        "bin_end": 106.33500000000002,
                        "count": 0
                      },
                      {
                        "bin_start": 106.33500000000002,
                        "bin_end": 127.46800000000002,
                        "count": 0
                      },
                      {
                        "bin_start": 127.46800000000002,
                        "bin_end": 148.601,
                        "count": 0
                      },
                      {
                        "bin_start": 148.601,
                        "bin_end": 169.734,
                        "count": 0
                      },
                      {
                        "bin_start": 169.734,
                        "bin_end": 190.86700000000002,
                        "count": 0
                      },
                      {
                        "bin_start": 190.86700000000002,
                        "bin_end": 212,
                        "count": 1
                      }
                    ]
                  }
                },
                {
                  "name": "r10",
                  "dtype": "float64",
                  "stats": {
                    "unique_count": 8,
                    "nan_count": 0,
                    "min": "1.64",
                    "max": "212.0",
                    "histogram": [
                      {
                        "bin_start": 1.64,
                        "bin_end": 22.676000000000002,
                        "count": 7
                      },
                      {
                        "bin_start": 22.676000000000002,
                        "bin_end": 43.712,
                        "count": 0
                      },
                      {
                        "bin_start": 43.712,
                        "bin_end": 64.748,
                        "count": 0
                      },
                      {
                        "bin_start": 64.748,
                        "bin_end": 85.784,
                        "count": 0
                      },
                      {
                        "bin_start": 85.784,
                        "bin_end": 106.82000000000001,
                        "count": 0
                      },
                      {
                        "bin_start": 106.82000000000001,
                        "bin_end": 127.85600000000001,
                        "count": 0
                      },
                      {
                        "bin_start": 127.85600000000001,
                        "bin_end": 148.892,
                        "count": 0
                      },
                      {
                        "bin_start": 148.892,
                        "bin_end": 169.928,
                        "count": 0
                      },
                      {
                        "bin_start": 169.928,
                        "bin_end": 190.964,
                        "count": 0
                      },
                      {
                        "bin_start": 190.964,
                        "bin_end": 212,
                        "count": 1
                      }
                    ]
                  }
                },
                {
                  "name": "PPINSA",
                  "dtype": "float64",
                  "stats": {
                    "unique_count": 8,
                    "nan_count": 0,
                    "min": "31.47",
                    "max": "212.0",
                    "histogram": [
                      {
                        "bin_start": 31.47,
                        "bin_end": 49.522999999999996,
                        "count": 2
                      },
                      {
                        "bin_start": 49.522999999999996,
                        "bin_end": 67.576,
                        "count": 1
                      },
                      {
                        "bin_start": 67.576,
                        "bin_end": 85.629,
                        "count": 0
                      },
                      {
                        "bin_start": 85.629,
                        "bin_end": 103.682,
                        "count": 2
                      },
                      {
                        "bin_start": 103.682,
                        "bin_end": 121.735,
                        "count": 0
                      },
                      {
                        "bin_start": 121.735,
                        "bin_end": 139.788,
                        "count": 1
                      },
                      {
                        "bin_start": 139.788,
                        "bin_end": 157.841,
                        "count": 0
                      },
                      {
                        "bin_start": 157.841,
                        "bin_end": 175.894,
                        "count": 0
                      },
                      {
                        "bin_start": 175.894,
                        "bin_end": 193.947,
                        "count": 0
                      },
                      {
                        "bin_start": 193.947,
                        "bin_end": 212,
                        "count": 2
                      }
                    ]
                  }
                },
                {
                  "name": "Finished",
                  "dtype": "float64",
                  "stats": {
                    "unique_count": 8,
                    "nan_count": 0,
                    "min": "33.2",
                    "max": "212.0",
                    "histogram": [
                      {
                        "bin_start": 33.2,
                        "bin_end": 51.080000000000005,
                        "count": 3
                      },
                      {
                        "bin_start": 51.080000000000005,
                        "bin_end": 68.96000000000001,
                        "count": 0
                      },
                      {
                        "bin_start": 68.96000000000001,
                        "bin_end": 86.84,
                        "count": 0
                      },
                      {
                        "bin_start": 86.84,
                        "bin_end": 104.72000000000001,
                        "count": 2
                      },
                      {
                        "bin_start": 104.72000000000001,
                        "bin_end": 122.60000000000001,
                        "count": 0
                      },
                      {
                        "bin_start": 122.60000000000001,
                        "bin_end": 140.48000000000002,
                        "count": 1
                      },
                      {
                        "bin_start": 140.48000000000002,
                        "bin_end": 158.36,
                        "count": 0
                      },
                      {
                        "bin_start": 158.36,
                        "bin_end": 176.24,
                        "count": 0
                      },
                      {
                        "bin_start": 176.24,
                        "bin_end": 194.12,
                        "count": 0
                      },
                      {
                        "bin_start": 194.12,
                        "bin_end": 212,
                        "count": 2
                      }
                    ]
                  }
                },
                {
                  "name": "CPI",
                  "dtype": "float64",
                  "stats": {
                    "unique_count": 8,
                    "nan_count": 0,
                    "min": "29.4",
                    "max": "231.28",
                    "histogram": [
                      {
                        "bin_start": 29.4,
                        "bin_end": 49.587999999999994,
                        "count": 2
                      },
                      {
                        "bin_start": 49.587999999999994,
                        "bin_end": 69.776,
                        "count": 1
                      },
                      {
                        "bin_start": 69.776,
                        "bin_end": 89.964,
                        "count": 0
                      },
                      {
                        "bin_start": 89.964,
                        "bin_end": 110.15199999999999,
                        "count": 1
                      },
                      {
                        "bin_start": 110.15199999999999,
                        "bin_end": 130.34,
                        "count": 1
                      },
                      {
                        "bin_start": 130.34,
                        "bin_end": 150.528,
                        "count": 0
                      },
                      {
                        "bin_start": 150.528,
                        "bin_end": 170.716,
                        "count": 1
                      },
                      {
                        "bin_start": 170.716,
                        "bin_end": 190.904,
                        "count": 0
                      },
                      {
                        "bin_start": 190.904,
                        "bin_end": 211.09199999999998,
                        "count": 0
                      },
                      {
                        "bin_start": 211.09199999999998,
                        "bin_end": 231.28,
                        "count": 2
                      }
                    ]
                  }
                },
                {
                  "name": "CPICORE",
                  "dtype": "float64",
                  "stats": {
                    "unique_count": 8,
                    "nan_count": 0,
                    "min": "18.92",
                    "max": "212.0",
                    "histogram": [
                      {
                        "bin_start": 18.92,
                        "bin_end": 38.228,
                        "count": 3
                      },
                      {
                        "bin_start": 38.228,
                        "bin_end": 57.536,
                        "count": 0
                      },
                      {
                        "bin_start": 57.536,
                        "bin_end": 76.844,
                        "count": 2
                      },
                      {
                        "bin_start": 76.844,
                        "bin_end": 96.152,
                        "count": 1
                      },
                      {
                        "bin_start": 96.152,
                        "bin_end": 115.46,
                        "count": 1
                      },
                      {
                        "bin_start": 115.46,
                        "bin_end": 134.768,
                        "count": 0
                      },
                      {
                        "bin_start": 134.768,
                        "bin_end": 154.07600000000002,
                        "count": 0
                      },
                      {
                        "bin_start": 154.07600000000002,
                        "bin_end": 173.38400000000001,
                        "count": 0
                      },
                      {
                        "bin_start": 173.38400000000001,
                        "bin_end": 192.692,
                        "count": 0
                      },
                      {
                        "bin_start": 192.692,
                        "bin_end": 212,
                        "count": 1
                      }
                    ]
                  }
                },
                {
                  "name": "M1NSA",
                  "dtype": "float64",
                  "stats": {
                    "unique_count": 8,
                    "nan_count": 0,
                    "min": "138.4",
                    "max": "2436.73",
                    "histogram": [
                      {
                        "bin_start": 138.4,
                        "bin_end": 368.233,
                        "count": 3
                      },
                      {
                        "bin_start": 368.233,
                        "bin_end": 598.066,
                        "count": 1
                      },
                      {
                        "bin_start": 598.066,
                        "bin_end": 827.899,
                        "count": 2
                      },
                      {
                        "bin_start": 827.899,
                        "bin_end": 1057.732,
                        "count": 0
                      },
                      {
                        "bin_start": 1057.732,
                        "bin_end": 1287.565,
                        "count": 1
                      },
                      {
                        "bin_start": 1287.565,
                        "bin_end": 1517.3980000000001,
                        "count": 0
                      },
                      {
                        "bin_start": 1517.3980000000001,
                        "bin_end": 1747.231,
                        "count": 0
                      },
                      {
                        "bin_start": 1747.231,
                        "bin_end": 1977.064,
                        "count": 0
                      },
                      {
                        "bin_start": 1977.064,
                        "bin_end": 2206.897,
                        "count": 0
                      },
                      {
                        "bin_start": 2206.897,
                        "bin_end": 2436.73,
                        "count": 1
                      }
                    ]
                  }
                },
                {
                  "name": "M2SA",
                  "dtype": "float64",
                  "stats": {
                    "unique_count": 8,
                    "nan_count": 0,
                    "min": "212.0",
                    "max": "30938.8",
                    "histogram": [
                      {
                        "bin_start": 212,
                        "bin_end": 3284.68,
                        "count": 3
                      },
                      {
                        "bin_start": 3284.68,
                        "bin_end": 6357.36,
                        "count": 0
                      },
                      {
                        "bin_start": 6357.36,
                        "bin_end": 9430.039999999999,
                        "count": 3
                      },
                      {
                        "bin_start": 9430.039999999999,
                        "bin_end": 12502.72,
                        "count": 0
                      },
                      {
                        "bin_start": 12502.72,
                        "bin_end": 15575.4,
                        "count": 1
                      },
                      {
                        "bin_start": 15575.4,
                        "bin_end": 18648.079999999998,
                        "count": 0
                      },
                      {
                        "bin_start": 18648.079999999998,
                        "bin_end": 21720.76,
                        "count": 0
                      },
                      {
                        "bin_start": 21720.76,
                        "bin_end": 24793.44,
                        "count": 0
                      },
                      {
                        "bin_start": 24793.44,
                        "bin_end": 27866.12,
                        "count": 0
                      },
                      {
                        "bin_start": 27866.12,
                        "bin_end": 30938.8,
                        "count": 1
                      }
                    ]
                  }
                },
                {
                  "name": "M2NSA",
                  "dtype": "float64",
                  "stats": {
                    "unique_count": 8,
                    "nan_count": 0,
                    "min": "212.0",
                    "max": "10319.6",
                    "histogram": [
                      {
                        "bin_start": 212,
                        "bin_end": 1222.76,
                        "count": 3
                      },
                      {
                        "bin_start": 1222.76,
                        "bin_end": 2233.52,
                        "count": 0
                      },
                      {
                        "bin_start": 2233.52,
                        "bin_end": 3244.2799999999997,
                        "count": 3
                      },
                      {
                        "bin_start": 3244.2799999999997,
                        "bin_end": 4255.04,
                        "count": 0
                      },
                      {
                        "bin_start": 4255.04,
                        "bin_end": 5265.8,
                        "count": 1
                      },
                      {
                        "bin_start": 5265.8,
                        "bin_end": 6276.5599999999995,
                        "count": 0
                      },
                      {
                        "bin_start": 6276.5599999999995,
                        "bin_end": 7287.32,
                        "count": 0
                      },
                      {
                        "bin_start": 7287.32,
                        "bin_end": 8298.08,
                        "count": 0
                      },
                      {
                        "bin_start": 8298.08,
                        "bin_end": 9308.84,
                        "count": 0
                      },
                      {
                        "bin_start": 9308.84,
                        "bin_end": 10319.6,
                        "count": 1
                      }
                    ]
                  }
                },
                {
                  "name": "Unemp",
                  "dtype": "float64",
                  "stats": {
                    "unique_count": 8,
                    "nan_count": 0,
                    "min": "1.6143940331991582",
                    "max": "212.0",
                    "histogram": [
                      {
                        "bin_start": 1.6143940331991582,
                        "bin_end": 22.652954629879243,
                        "count": 7
                      },
                      {
                        "bin_start": 22.652954629879243,
                        "bin_end": 43.69151522655933,
                        "count": 0
                      },
                      {
                        "bin_start": 43.69151522655933,
                        "bin_end": 64.73007582323942,
                        "count": 0
                      },
                      {
                        "bin_start": 64.73007582323942,
                        "bin_end": 85.7686364199195,
                        "count": 0
                      },
                      {
                        "bin_start": 85.7686364199195,
                        "bin_end": 106.80719701659959,
                        "count": 0
                      },
                      {
                        "bin_start": 106.80719701659959,
                        "bin_end": 127.84575761327967,
                        "count": 0
                      },
                      {
                        "bin_start": 127.84575761327967,
                        "bin_end": 148.88431820995973,
                        "count": 0
                      },
                      {
                        "bin_start": 148.88431820995973,
                        "bin_end": 169.92287880663983,
                        "count": 0
                      },
                      {
                        "bin_start": 169.92287880663983,
                        "bin_end": 190.96143940331993,
                        "count": 0
                      },
                      {
                        "bin_start": 190.96143940331993,
                        "bin_end": 212,
                        "count": 1
                      }
                    ]
                  }
                },
                {
                  "name": "IndProd",
                  "dtype": "float64",
                  "stats": {
                    "unique_count": 8,
                    "nan_count": 0,
                    "min": "22.13",
                    "max": "212.0",
                    "histogram": [
                      {
                        "bin_start": 22.13,
                        "bin_end": 41.117000000000004,
                        "count": 2
                      },
                      {
                        "bin_start": 41.117000000000004,
                        "bin_end": 60.104,
                        "count": 2
                      },
                      {
                        "bin_start": 60.104,
                        "bin_end": 79.09100000000001,
                        "count": 1
                      },
                      {
                        "bin_start": 79.09100000000001,
                        "bin_end": 98.078,
                        "count": 1
                      },
                      {
                        "bin_start": 98.078,
                        "bin_end": 117.065,
                        "count": 1
                      },
                      {
                        "bin_start": 117.065,
                        "bin_end": 136.05200000000002,
                        "count": 0
                      },
                      {
                        "bin_start": 136.05200000000002,
                        "bin_end": 155.03900000000002,
                        "count": 0
                      },
                      {
                        "bin_start": 155.03900000000002,
                        "bin_end": 174.026,
                        "count": 0
                      },
                      {
                        "bin_start": 174.026,
                        "bin_end": 193.013,
                        "count": 0
                      },
                      {
                        "bin_start": 193.013,
                        "bin_end": 212,
                        "count": 1
                      }
                    ]
                  }
                },
                {
                  "name": "RGDP",
                  "dtype": "float64",
                  "stats": {
                    "unique_count": 8,
                    "nan_count": 0,
                    "min": "212.0",
                    "max": "13665.4",
                    "histogram": [
                      {
                        "bin_start": 212,
                        "bin_end": 1557.34,
                        "count": 1
                      },
                      {
                        "bin_start": 1557.34,
                        "bin_end": 2902.68,
                        "count": 1
                      },
                      {
                        "bin_start": 2902.68,
                        "bin_end": 4248.0199999999995,
                        "count": 1
                      },
                      {
                        "bin_start": 4248.0199999999995,
                        "bin_end": 5593.36,
                        "count": 1
                      },
                      {
                        "bin_start": 5593.36,
                        "bin_end": 6938.7,
                        "count": 0
                      },
                      {
                        "bin_start": 6938.7,
                        "bin_end": 8284.039999999999,
                        "count": 2
                      },
                      {
                        "bin_start": 8284.039999999999,
                        "bin_end": 9629.38,
                        "count": 0
                      },
                      {
                        "bin_start": 9629.38,
                        "bin_end": 10974.72,
                        "count": 1
                      },
                      {
                        "bin_start": 10974.72,
                        "bin_end": 12320.06,
                        "count": 0
                      },
                      {
                        "bin_start": 12320.06,
                        "bin_end": 13665.4,
                        "count": 1
                      }
                    ]
                  }
                },
                {
                  "name": "Potent",
                  "dtype": "float64",
                  "stats": {
                    "unique_count": 8,
                    "nan_count": 0,
                    "min": "212.0",
                    "max": "14505.4",
                    "histogram": [
                      {
                        "bin_start": 212,
                        "bin_end": 1641.34,
                        "count": 1
                      },
                      {
                        "bin_start": 1641.34,
                        "bin_end": 3070.68,
                        "count": 1
                      },
                      {
                        "bin_start": 3070.68,
                        "bin_end": 4500.0199999999995,
                        "count": 1
                      },
                      {
                        "bin_start": 4500.0199999999995,
                        "bin_end": 5929.36,
                        "count": 1
                      },
                      {
                        "bin_start": 5929.36,
                        "bin_end": 7358.7,
                        "count": 1
                      },
                      {
                        "bin_start": 7358.7,
                        "bin_end": 8788.039999999999,
                        "count": 1
                      },
                      {
                        "bin_start": 8788.039999999999,
                        "bin_end": 10217.38,
                        "count": 0
                      },
                      {
                        "bin_start": 10217.38,
                        "bin_end": 11646.72,
                        "count": 1
                      },
                      {
                        "bin_start": 11646.72,
                        "bin_end": 13076.06,
                        "count": 0
                      },
                      {
                        "bin_start": 13076.06,
                        "bin_end": 14505.4,
                        "count": 1
                      }
                    ]
                  }
                },
                {
                  "name": "Deflator",
                  "dtype": "float64",
                  "stats": {
                    "unique_count": 8,
                    "nan_count": 0,
                    "min": "18.521",
                    "max": "212.0",
                    "histogram": [
                      {
                        "bin_start": 18.521,
                        "bin_end": 37.8689,
                        "count": 3
                      },
                      {
                        "bin_start": 37.8689,
                        "bin_end": 57.2168,
                        "count": 0
                      },
                      {
                        "bin_start": 57.2168,
                        "bin_end": 76.5647,
                        "count": 2
                      },
                      {
                        "bin_start": 76.5647,
                        "bin_end": 95.9126,
                        "count": 1
                      },
                      {
                        "bin_start": 95.9126,
                        "bin_end": 115.2605,
                        "count": 0
                      },
                      {
                        "bin_start": 115.2605,
                        "bin_end": 134.60840000000002,
                        "count": 1
                      },
                      {
                        "bin_start": 134.60840000000002,
                        "bin_end": 153.9563,
                        "count": 0
                      },
                      {
                        "bin_start": 153.9563,
                        "bin_end": 173.30419999999998,
                        "count": 0
                      },
                      {
                        "bin_start": 173.30419999999998,
                        "bin_end": 192.65210000000002,
                        "count": 0
                      },
                      {
                        "bin_start": 192.65210000000002,
                        "bin_end": 212,
                        "count": 1
                      }
                    ]
                  }
                },
                {
                  "name": "Curr",
                  "dtype": "float64",
                  "stats": {
                    "unique_count": 8,
                    "nan_count": 0,
                    "min": "31.83",
                    "max": "1147.623",
                    "histogram": [
                      {
                        "bin_start": 31.83,
                        "bin_end": 143.40930000000003,
                        "count": 2
                      },
                      {
                        "bin_start": 143.40930000000003,
                        "bin_end": 254.98860000000002,
                        "count": 2
                      },
                      {
                        "bin_start": 254.98860000000002,
                        "bin_end": 366.56790000000007,
                        "count": 2
                      },
                      {
                        "bin_start": 366.56790000000007,
                        "bin_end": 478.14720000000005,
                        "count": 0
                      },
                      {
                        "bin_start": 478.14720000000005,
                        "bin_end": 589.7265000000001,
                        "count": 1
                      },
                      {
                        "bin_start": 589.7265000000001,
                        "bin_end": 701.3058000000002,
                        "count": 0
                      },
                      {
                        "bin_start": 701.3058000000002,
                        "bin_end": 812.8851000000002,
                        "count": 0
                      },
                      {
                        "bin_start": 812.8851000000002,
                        "bin_end": 924.4644000000002,
                        "count": 0
                      },
                      {
                        "bin_start": 924.4644000000002,
                        "bin_end": 1036.0437000000002,
                        "count": 0
                      },
                      {
                        "bin_start": 1036.0437000000002,
                        "bin_end": 1147.623,
                        "count": 1
                      }
                    ]
                  }
                },
                {
                  "name": "_deepnote_index_column",
                  "dtype": "object"
                }
              ],
              "rows_top": [
                {
                  "FFR": 212,
                  "Tbill": 212,
                  "Tb1yr": 212,
                  "r5": 212,
                  "r10": 212,
                  "PPINSA": 212,
                  "Finished": 212,
                  "CPI": 212,
                  "CPICORE": 212,
                  "M1NSA": 212,
                  "M2SA": 212,
                  "M2NSA": 212,
                  "Unemp": 212,
                  "IndProd": 212,
                  "RGDP": 212,
                  "Potent": 212,
                  "Deflator": 212,
                  "Curr": 212,
                  "_deepnote_index_column": "count"
                },
                {
                  "FFR": 5.545754716981132,
                  "Tbill": 5.03254716981132,
                  "Tb1yr": 5.57877358490566,
                  "r5": 6.24504716981132,
                  "r10": 6.541320754716981,
                  "PPINSA": 98.8458962264151,
                  "Finished": 99.97424528301887,
                  "CPI": 113.18202830188677,
                  "CPICORE": 61.48985849056605,
                  "M1NSA": 754.6428773584905,
                  "M2SA": 9409.78820754717,
                  "M2NSA": 3136.5399528301887,
                  "Unemp": 6.081981132075471,
                  "IndProd": 60.75183962264151,
                  "RGDP": 7664.750471698113,
                  "Potent": 7764.87216981132,
                  "Deflator": 61.52960849056603,
                  "Curr": 327.91184433962263,
                  "_deepnote_index_column": "mean"
                },
                {
                  "FFR": 3.5152443769386075,
                  "Tbill": 2.9934062011307883,
                  "Tb1yr": 3.178313273739515,
                  "r5": 2.8884551205698963,
                  "r10": 2.690470483520524,
                  "PPINSA": 50.40864623090747,
                  "Finished": 49.13316999964924,
                  "CPI": 65.31026674506843,
                  "CPICORE": 31.866973387362588,
                  "M1NSA": 544.1985797715122,
                  "M2SA": 7944.482469736187,
                  "M2NSA": 2647.9719879787062,
                  "Unemp": 1.6143940331991582,
                  "IndProd": 23.47955155341585,
                  "RGDP": 3390.6522742506777,
                  "Potent": 3511.5367144051297,
                  "Deflator": 31.594753170994096,
                  "Curr": 309.01936692981803,
                  "_deepnote_index_column": "std"
                },
                {
                  "FFR": 0.07,
                  "Tbill": 0.01,
                  "Tb1yr": 0.11,
                  "r5": 0.67,
                  "r10": 1.64,
                  "PPINSA": 31.47,
                  "Finished": 33.2,
                  "CPI": 29.4,
                  "CPICORE": 18.92,
                  "M1NSA": 138.4,
                  "M2SA": 896.1,
                  "M2NSA": 299.4,
                  "Unemp": 3.4,
                  "IndProd": 22.13,
                  "RGDP": 2800.2,
                  "Potent": 2824.2,
                  "Deflator": 18.521,
                  "Curr": 31.83,
                  "_deepnote_index_column": "min"
                },
                {
                  "FFR": 3.2474999999999996,
                  "Tbill": 3.0775,
                  "Tb1yr": 3.53,
                  "r5": 4.12,
                  "r10": 4.297499999999999,
                  "PPINSA": 44.015,
                  "Finished": 44.71,
                  "CPI": 43.705,
                  "CPICORE": 27.227500000000003,
                  "M1NSA": 253.09749999999997,
                  "M2SA": 2469.775,
                  "M2NSA": 825.27,
                  "Unemp": 4.97,
                  "IndProd": 41.55,
                  "RGDP": 4818.650000000001,
                  "Potent": 4706.400000000001,
                  "Deflator": 27.72175,
                  "Curr": 66.34525,
                  "_deepnote_index_column": "25%"
                },
                {
                  "FFR": 5.25,
                  "Tbill": 4.955,
                  "Tb1yr": 5.44,
                  "r5": 6.02,
                  "r10": 6.18,
                  "PPINSA": 103.35,
                  "Finished": 104.33,
                  "CPI": 109.63499999999999,
                  "CPICORE": 61.96,
                  "M1NSA": 665.3,
                  "M2SA": 7848.1,
                  "M2NSA": 2614.835,
                  "Unemp": 5.715,
                  "IndProd": 55.2,
                  "RGDP": 7078.95,
                  "Potent": 7141.4,
                  "Deflator": 62.9645,
                  "Curr": 198.8125,
                  "_deepnote_index_column": "50%"
                },
                {
                  "FFR": 7.395,
                  "Tbill": 6.4125,
                  "Tb1yr": 7.302499999999999,
                  "r5": 7.7725,
                  "r10": 7.945,
                  "PPINSA": 128.4475,
                  "Finished": 133.885,
                  "CPI": 167.5075,
                  "CPICORE": 89.82249999999999,
                  "M1NSA": 1134.4325000000001,
                  "M2SA": 13640.550000000001,
                  "M2NSA": 4536.955,
                  "Unemp": 7.13,
                  "IndProd": 86.425,
                  "RGDP": 10859.225,
                  "Potent": 10596.050000000001,
                  "Deflator": 87.07475000000001,
                  "Curr": 544.72875,
                  "_deepnote_index_column": "75%"
                },
                {
                  "FFR": 17.78,
                  "Tbill": 15.05,
                  "Tb1yr": 16.32,
                  "r5": 15.43,
                  "r10": 14.85,
                  "PPINSA": 203.83,
                  "Finished": 196.2,
                  "CPI": 231.28,
                  "CPICORE": 114.18,
                  "M1NSA": 2436.73,
                  "M2SA": 30938.8,
                  "M2NSA": 10319.6,
                  "Unemp": 10.67,
                  "IndProd": 100.51,
                  "RGDP": 13665.4,
                  "Potent": 14505.4,
                  "Deflator": 116.089,
                  "Curr": 1147.623,
                  "_deepnote_index_column": "max"
                }
              ],
              "rows_bottom": null
            },
            "text/plain": "              FFR       Tbill       Tb1yr          r5         r10      PPINSA  \\\ncount  212.000000  212.000000  212.000000  212.000000  212.000000  212.000000   \nmean     5.545755    5.032547    5.578774    6.245047    6.541321   98.845896   \nstd      3.515244    2.993406    3.178313    2.888455    2.690470   50.408646   \nmin      0.070000    0.010000    0.110000    0.670000    1.640000   31.470000   \n25%      3.247500    3.077500    3.530000    4.120000    4.297500   44.015000   \n50%      5.250000    4.955000    5.440000    6.020000    6.180000  103.350000   \n75%      7.395000    6.412500    7.302500    7.772500    7.945000  128.447500   \nmax     17.780000   15.050000   16.320000   15.430000   14.850000  203.830000   \n\n         Finished         CPI     CPICORE        M1NSA          M2SA  \\\ncount  212.000000  212.000000  212.000000   212.000000    212.000000   \nmean    99.974245  113.182028   61.489858   754.642877   9409.788208   \nstd     49.133170   65.310267   31.866973   544.198580   7944.482470   \nmin     33.200000   29.400000   18.920000   138.400000    896.100000   \n25%     44.710000   43.705000   27.227500   253.097500   2469.775000   \n50%    104.330000  109.635000   61.960000   665.300000   7848.100000   \n75%    133.885000  167.507500   89.822500  1134.432500  13640.550000   \nmax    196.200000  231.280000  114.180000  2436.730000  30938.800000   \n\n              M2NSA       Unemp     IndProd          RGDP        Potent  \\\ncount    212.000000  212.000000  212.000000    212.000000    212.000000   \nmean    3136.539953    6.081981   60.751840   7664.750472   7764.872170   \nstd     2647.971988    1.614394   23.479552   3390.652274   3511.536714   \nmin      299.400000    3.400000   22.130000   2800.200000   2824.200000   \n25%      825.270000    4.970000   41.550000   4818.650000   4706.400000   \n50%     2614.835000    5.715000   55.200000   7078.950000   7141.400000   \n75%     4536.955000    7.130000   86.425000  10859.225000  10596.050000   \nmax    10319.600000   10.670000  100.510000  13665.400000  14505.400000   \n\n         Deflator         Curr  \ncount  212.000000   212.000000  \nmean    61.529608   327.911844  \nstd     31.594753   309.019367  \nmin     18.521000    31.830000  \n25%     27.721750    66.345250  \n50%     62.964500   198.812500  \n75%     87.074750   544.728750  \nmax    116.089000  1147.623000  ",
            "text/html": "<div>\n<style scoped>\n    .dataframe tbody tr th:only-of-type {\n        vertical-align: middle;\n    }\n\n    .dataframe tbody tr th {\n        vertical-align: top;\n    }\n\n    .dataframe thead th {\n        text-align: right;\n    }\n</style>\n<table border=\"1\" class=\"dataframe\">\n  <thead>\n    <tr style=\"text-align: right;\">\n      <th></th>\n      <th>FFR</th>\n      <th>Tbill</th>\n      <th>Tb1yr</th>\n      <th>r5</th>\n      <th>r10</th>\n      <th>PPINSA</th>\n      <th>Finished</th>\n      <th>CPI</th>\n      <th>CPICORE</th>\n      <th>M1NSA</th>\n      <th>M2SA</th>\n      <th>M2NSA</th>\n      <th>Unemp</th>\n      <th>IndProd</th>\n      <th>RGDP</th>\n      <th>Potent</th>\n      <th>Deflator</th>\n      <th>Curr</th>\n    </tr>\n  </thead>\n  <tbody>\n    <tr>\n      <th>count</th>\n      <td>212.000000</td>\n      <td>212.000000</td>\n      <td>212.000000</td>\n      <td>212.000000</td>\n      <td>212.000000</td>\n      <td>212.000000</td>\n      <td>212.000000</td>\n      <td>212.000000</td>\n      <td>212.000000</td>\n      <td>212.000000</td>\n      <td>212.000000</td>\n      <td>212.000000</td>\n      <td>212.000000</td>\n      <td>212.000000</td>\n      <td>212.000000</td>\n      <td>212.000000</td>\n      <td>212.000000</td>\n      <td>212.000000</td>\n    </tr>\n    <tr>\n      <th>mean</th>\n      <td>5.545755</td>\n      <td>5.032547</td>\n      <td>5.578774</td>\n      <td>6.245047</td>\n      <td>6.541321</td>\n      <td>98.845896</td>\n      <td>99.974245</td>\n      <td>113.182028</td>\n      <td>61.489858</td>\n      <td>754.642877</td>\n      <td>9409.788208</td>\n      <td>3136.539953</td>\n      <td>6.081981</td>\n      <td>60.751840</td>\n      <td>7664.750472</td>\n      <td>7764.872170</td>\n      <td>61.529608</td>\n      <td>327.911844</td>\n    </tr>\n    <tr>\n      <th>std</th>\n      <td>3.515244</td>\n      <td>2.993406</td>\n      <td>3.178313</td>\n      <td>2.888455</td>\n      <td>2.690470</td>\n      <td>50.408646</td>\n      <td>49.133170</td>\n      <td>65.310267</td>\n      <td>31.866973</td>\n      <td>544.198580</td>\n      <td>7944.482470</td>\n      <td>2647.971988</td>\n      <td>1.614394</td>\n      <td>23.479552</td>\n      <td>3390.652274</td>\n      <td>3511.536714</td>\n      <td>31.594753</td>\n      <td>309.019367</td>\n    </tr>\n    <tr>\n      <th>min</th>\n      <td>0.070000</td>\n      <td>0.010000</td>\n      <td>0.110000</td>\n      <td>0.670000</td>\n      <td>1.640000</td>\n      <td>31.470000</td>\n      <td>33.200000</td>\n      <td>29.400000</td>\n      <td>18.920000</td>\n      <td>138.400000</td>\n      <td>896.100000</td>\n      <td>299.400000</td>\n      <td>3.400000</td>\n      <td>22.130000</td>\n      <td>2800.200000</td>\n      <td>2824.200000</td>\n      <td>18.521000</td>\n      <td>31.830000</td>\n    </tr>\n    <tr>\n      <th>25%</th>\n      <td>3.247500</td>\n      <td>3.077500</td>\n      <td>3.530000</td>\n      <td>4.120000</td>\n      <td>4.297500</td>\n      <td>44.015000</td>\n      <td>44.710000</td>\n      <td>43.705000</td>\n      <td>27.227500</td>\n      <td>253.097500</td>\n      <td>2469.775000</td>\n      <td>825.270000</td>\n      <td>4.970000</td>\n      <td>41.550000</td>\n      <td>4818.650000</td>\n      <td>4706.400000</td>\n      <td>27.721750</td>\n      <td>66.345250</td>\n    </tr>\n    <tr>\n      <th>50%</th>\n      <td>5.250000</td>\n      <td>4.955000</td>\n      <td>5.440000</td>\n      <td>6.020000</td>\n      <td>6.180000</td>\n      <td>103.350000</td>\n      <td>104.330000</td>\n      <td>109.635000</td>\n      <td>61.960000</td>\n      <td>665.300000</td>\n      <td>7848.100000</td>\n      <td>2614.835000</td>\n      <td>5.715000</td>\n      <td>55.200000</td>\n      <td>7078.950000</td>\n      <td>7141.400000</td>\n      <td>62.964500</td>\n      <td>198.812500</td>\n    </tr>\n    <tr>\n      <th>75%</th>\n      <td>7.395000</td>\n      <td>6.412500</td>\n      <td>7.302500</td>\n      <td>7.772500</td>\n      <td>7.945000</td>\n      <td>128.447500</td>\n      <td>133.885000</td>\n      <td>167.507500</td>\n      <td>89.822500</td>\n      <td>1134.432500</td>\n      <td>13640.550000</td>\n      <td>4536.955000</td>\n      <td>7.130000</td>\n      <td>86.425000</td>\n      <td>10859.225000</td>\n      <td>10596.050000</td>\n      <td>87.074750</td>\n      <td>544.728750</td>\n    </tr>\n    <tr>\n      <th>max</th>\n      <td>17.780000</td>\n      <td>15.050000</td>\n      <td>16.320000</td>\n      <td>15.430000</td>\n      <td>14.850000</td>\n      <td>203.830000</td>\n      <td>196.200000</td>\n      <td>231.280000</td>\n      <td>114.180000</td>\n      <td>2436.730000</td>\n      <td>30938.800000</td>\n      <td>10319.600000</td>\n      <td>10.670000</td>\n      <td>100.510000</td>\n      <td>13665.400000</td>\n      <td>14505.400000</td>\n      <td>116.089000</td>\n      <td>1147.623000</td>\n    </tr>\n  </tbody>\n</table>\n</div>"
          },
          "metadata": {}
        }
      ]
    },
    {
      "cell_type": "markdown",
      "source": "### since we have quite a few columns it is a bit hard to read\n### let's just look at individual columns first\n### you can subset the data to a single column first",
      "metadata": {
        "cell_id": "00021-ebe7a300-a051-40d8-99b5-6be442de26f6",
        "deepnote_cell_type": "markdown"
      }
    },
    {
      "cell_type": "code",
      "metadata": {
        "cell_id": "00022-a57f3180-336c-4d4f-b4f7-778be91babbb",
        "deepnote_to_be_reexecuted": false,
        "source_hash": "9f105802",
        "execution_millis": 12,
        "execution_start": 1619186954129,
        "deepnote_cell_type": "code"
      },
      "source": "df['FFR'].describe()",
      "execution_count": 66,
      "outputs": [
        {
          "output_type": "execute_result",
          "execution_count": 66,
          "data": {
            "text/plain": "count    212.000000\nmean       5.545755\nstd        3.515244\nmin        0.070000\n25%        3.247500\n50%        5.250000\n75%        7.395000\nmax       17.780000\nName: FFR, dtype: float64"
          },
          "metadata": {}
        }
      ]
    },
    {
      "cell_type": "markdown",
      "source": "### if you are only looking at a single column you can just put it in brackets\n### if you want more than one column, you need to input them as a list",
      "metadata": {
        "cell_id": "00023-80edef75-551b-4d5a-9855-f6e6d95007a4",
        "deepnote_cell_type": "markdown"
      }
    },
    {
      "cell_type": "code",
      "metadata": {
        "cell_id": "00024-acb0703b-e23d-4a3b-8d8f-72788920ba41",
        "deepnote_to_be_reexecuted": false,
        "source_hash": "d144b118",
        "execution_millis": 25,
        "execution_start": 1619186954144,
        "deepnote_cell_type": "code"
      },
      "source": "df[['FFR', 'Tbill']].describe()",
      "execution_count": 67,
      "outputs": [
        {
          "output_type": "execute_result",
          "execution_count": 67,
          "data": {
            "application/vnd.deepnote.dataframe.v2+json": {
              "row_count": 8,
              "column_count": 2,
              "columns": [
                {
                  "name": "FFR",
                  "dtype": "float64",
                  "stats": {
                    "unique_count": 8,
                    "nan_count": 0,
                    "min": "0.07",
                    "max": "212.0",
                    "histogram": [
                      {
                        "bin_start": 0.07,
                        "bin_end": 21.263,
                        "count": 7
                      },
                      {
                        "bin_start": 21.263,
                        "bin_end": 42.456,
                        "count": 0
                      },
                      {
                        "bin_start": 42.456,
                        "bin_end": 63.64900000000001,
                        "count": 0
                      },
                      {
                        "bin_start": 63.64900000000001,
                        "bin_end": 84.842,
                        "count": 0
                      },
                      {
                        "bin_start": 84.842,
                        "bin_end": 106.035,
                        "count": 0
                      },
                      {
                        "bin_start": 106.035,
                        "bin_end": 127.22800000000001,
                        "count": 0
                      },
                      {
                        "bin_start": 127.22800000000001,
                        "bin_end": 148.421,
                        "count": 0
                      },
                      {
                        "bin_start": 148.421,
                        "bin_end": 169.614,
                        "count": 0
                      },
                      {
                        "bin_start": 169.614,
                        "bin_end": 190.80700000000002,
                        "count": 0
                      },
                      {
                        "bin_start": 190.80700000000002,
                        "bin_end": 212,
                        "count": 1
                      }
                    ]
                  }
                },
                {
                  "name": "Tbill",
                  "dtype": "float64",
                  "stats": {
                    "unique_count": 8,
                    "nan_count": 0,
                    "min": "0.01",
                    "max": "212.0",
                    "histogram": [
                      {
                        "bin_start": 0.01,
                        "bin_end": 21.209000000000003,
                        "count": 7
                      },
                      {
                        "bin_start": 21.209000000000003,
                        "bin_end": 42.408,
                        "count": 0
                      },
                      {
                        "bin_start": 42.408,
                        "bin_end": 63.607000000000006,
                        "count": 0
                      },
                      {
                        "bin_start": 63.607000000000006,
                        "bin_end": 84.80600000000001,
                        "count": 0
                      },
                      {
                        "bin_start": 84.80600000000001,
                        "bin_end": 106.00500000000001,
                        "count": 0
                      },
                      {
                        "bin_start": 106.00500000000001,
                        "bin_end": 127.20400000000002,
                        "count": 0
                      },
                      {
                        "bin_start": 127.20400000000002,
                        "bin_end": 148.403,
                        "count": 0
                      },
                      {
                        "bin_start": 148.403,
                        "bin_end": 169.602,
                        "count": 0
                      },
                      {
                        "bin_start": 169.602,
                        "bin_end": 190.80100000000002,
                        "count": 0
                      },
                      {
                        "bin_start": 190.80100000000002,
                        "bin_end": 212,
                        "count": 1
                      }
                    ]
                  }
                },
                {
                  "name": "_deepnote_index_column",
                  "dtype": "object"
                }
              ],
              "rows_top": [
                {
                  "FFR": 212,
                  "Tbill": 212,
                  "_deepnote_index_column": "count"
                },
                {
                  "FFR": 5.545754716981132,
                  "Tbill": 5.03254716981132,
                  "_deepnote_index_column": "mean"
                },
                {
                  "FFR": 3.5152443769386075,
                  "Tbill": 2.9934062011307883,
                  "_deepnote_index_column": "std"
                },
                {
                  "FFR": 0.07,
                  "Tbill": 0.01,
                  "_deepnote_index_column": "min"
                },
                {
                  "FFR": 3.2474999999999996,
                  "Tbill": 3.0775,
                  "_deepnote_index_column": "25%"
                },
                {
                  "FFR": 5.25,
                  "Tbill": 4.955,
                  "_deepnote_index_column": "50%"
                },
                {
                  "FFR": 7.395,
                  "Tbill": 6.4125,
                  "_deepnote_index_column": "75%"
                },
                {
                  "FFR": 17.78,
                  "Tbill": 15.05,
                  "_deepnote_index_column": "max"
                }
              ],
              "rows_bottom": null
            },
            "text/plain": "              FFR       Tbill\ncount  212.000000  212.000000\nmean     5.545755    5.032547\nstd      3.515244    2.993406\nmin      0.070000    0.010000\n25%      3.247500    3.077500\n50%      5.250000    4.955000\n75%      7.395000    6.412500\nmax     17.780000   15.050000",
            "text/html": "<div>\n<style scoped>\n    .dataframe tbody tr th:only-of-type {\n        vertical-align: middle;\n    }\n\n    .dataframe tbody tr th {\n        vertical-align: top;\n    }\n\n    .dataframe thead th {\n        text-align: right;\n    }\n</style>\n<table border=\"1\" class=\"dataframe\">\n  <thead>\n    <tr style=\"text-align: right;\">\n      <th></th>\n      <th>FFR</th>\n      <th>Tbill</th>\n    </tr>\n  </thead>\n  <tbody>\n    <tr>\n      <th>count</th>\n      <td>212.000000</td>\n      <td>212.000000</td>\n    </tr>\n    <tr>\n      <th>mean</th>\n      <td>5.545755</td>\n      <td>5.032547</td>\n    </tr>\n    <tr>\n      <th>std</th>\n      <td>3.515244</td>\n      <td>2.993406</td>\n    </tr>\n    <tr>\n      <th>min</th>\n      <td>0.070000</td>\n      <td>0.010000</td>\n    </tr>\n    <tr>\n      <th>25%</th>\n      <td>3.247500</td>\n      <td>3.077500</td>\n    </tr>\n    <tr>\n      <th>50%</th>\n      <td>5.250000</td>\n      <td>4.955000</td>\n    </tr>\n    <tr>\n      <th>75%</th>\n      <td>7.395000</td>\n      <td>6.412500</td>\n    </tr>\n    <tr>\n      <th>max</th>\n      <td>17.780000</td>\n      <td>15.050000</td>\n    </tr>\n  </tbody>\n</table>\n</div>"
          },
          "metadata": {}
        }
      ]
    },
    {
      "cell_type": "markdown",
      "source": "### naturally you can subset using the columns command we used earlier",
      "metadata": {
        "cell_id": "00025-264dc1d9-25dd-4dc5-a071-58d29c5345c8",
        "deepnote_cell_type": "markdown"
      }
    },
    {
      "cell_type": "code",
      "metadata": {
        "cell_id": "00026-bedd6a85-eb61-45b2-9f99-7a5f6298e767",
        "deepnote_to_be_reexecuted": false,
        "source_hash": "a6dc9022",
        "execution_millis": 83,
        "execution_start": 1619186954171,
        "deepnote_cell_type": "code"
      },
      "source": "df[df.columns[:4]].describe()",
      "execution_count": 68,
      "outputs": [
        {
          "output_type": "execute_result",
          "execution_count": 68,
          "data": {
            "application/vnd.deepnote.dataframe.v2+json": {
              "row_count": 8,
              "column_count": 3,
              "columns": [
                {
                  "name": "FFR",
                  "dtype": "float64",
                  "stats": {
                    "unique_count": 8,
                    "nan_count": 0,
                    "min": "0.07",
                    "max": "212.0",
                    "histogram": [
                      {
                        "bin_start": 0.07,
                        "bin_end": 21.263,
                        "count": 7
                      },
                      {
                        "bin_start": 21.263,
                        "bin_end": 42.456,
                        "count": 0
                      },
                      {
                        "bin_start": 42.456,
                        "bin_end": 63.64900000000001,
                        "count": 0
                      },
                      {
                        "bin_start": 63.64900000000001,
                        "bin_end": 84.842,
                        "count": 0
                      },
                      {
                        "bin_start": 84.842,
                        "bin_end": 106.035,
                        "count": 0
                      },
                      {
                        "bin_start": 106.035,
                        "bin_end": 127.22800000000001,
                        "count": 0
                      },
                      {
                        "bin_start": 127.22800000000001,
                        "bin_end": 148.421,
                        "count": 0
                      },
                      {
                        "bin_start": 148.421,
                        "bin_end": 169.614,
                        "count": 0
                      },
                      {
                        "bin_start": 169.614,
                        "bin_end": 190.80700000000002,
                        "count": 0
                      },
                      {
                        "bin_start": 190.80700000000002,
                        "bin_end": 212,
                        "count": 1
                      }
                    ]
                  }
                },
                {
                  "name": "Tbill",
                  "dtype": "float64",
                  "stats": {
                    "unique_count": 8,
                    "nan_count": 0,
                    "min": "0.01",
                    "max": "212.0",
                    "histogram": [
                      {
                        "bin_start": 0.01,
                        "bin_end": 21.209000000000003,
                        "count": 7
                      },
                      {
                        "bin_start": 21.209000000000003,
                        "bin_end": 42.408,
                        "count": 0
                      },
                      {
                        "bin_start": 42.408,
                        "bin_end": 63.607000000000006,
                        "count": 0
                      },
                      {
                        "bin_start": 63.607000000000006,
                        "bin_end": 84.80600000000001,
                        "count": 0
                      },
                      {
                        "bin_start": 84.80600000000001,
                        "bin_end": 106.00500000000001,
                        "count": 0
                      },
                      {
                        "bin_start": 106.00500000000001,
                        "bin_end": 127.20400000000002,
                        "count": 0
                      },
                      {
                        "bin_start": 127.20400000000002,
                        "bin_end": 148.403,
                        "count": 0
                      },
                      {
                        "bin_start": 148.403,
                        "bin_end": 169.602,
                        "count": 0
                      },
                      {
                        "bin_start": 169.602,
                        "bin_end": 190.80100000000002,
                        "count": 0
                      },
                      {
                        "bin_start": 190.80100000000002,
                        "bin_end": 212,
                        "count": 1
                      }
                    ]
                  }
                },
                {
                  "name": "Tb1yr",
                  "dtype": "float64",
                  "stats": {
                    "unique_count": 8,
                    "nan_count": 0,
                    "min": "0.11",
                    "max": "212.0",
                    "histogram": [
                      {
                        "bin_start": 0.11,
                        "bin_end": 21.299,
                        "count": 7
                      },
                      {
                        "bin_start": 21.299,
                        "bin_end": 42.488,
                        "count": 0
                      },
                      {
                        "bin_start": 42.488,
                        "bin_end": 63.677,
                        "count": 0
                      },
                      {
                        "bin_start": 63.677,
                        "bin_end": 84.866,
                        "count": 0
                      },
                      {
                        "bin_start": 84.866,
                        "bin_end": 106.05499999999999,
                        "count": 0
                      },
                      {
                        "bin_start": 106.05499999999999,
                        "bin_end": 127.244,
                        "count": 0
                      },
                      {
                        "bin_start": 127.244,
                        "bin_end": 148.43300000000002,
                        "count": 0
                      },
                      {
                        "bin_start": 148.43300000000002,
                        "bin_end": 169.622,
                        "count": 0
                      },
                      {
                        "bin_start": 169.622,
                        "bin_end": 190.811,
                        "count": 0
                      },
                      {
                        "bin_start": 190.811,
                        "bin_end": 212,
                        "count": 1
                      }
                    ]
                  }
                },
                {
                  "name": "_deepnote_index_column",
                  "dtype": "object"
                }
              ],
              "rows_top": [
                {
                  "FFR": 212,
                  "Tbill": 212,
                  "Tb1yr": 212,
                  "_deepnote_index_column": "count"
                },
                {
                  "FFR": 5.545754716981132,
                  "Tbill": 5.03254716981132,
                  "Tb1yr": 5.57877358490566,
                  "_deepnote_index_column": "mean"
                },
                {
                  "FFR": 3.5152443769386075,
                  "Tbill": 2.9934062011307883,
                  "Tb1yr": 3.178313273739515,
                  "_deepnote_index_column": "std"
                },
                {
                  "FFR": 0.07,
                  "Tbill": 0.01,
                  "Tb1yr": 0.11,
                  "_deepnote_index_column": "min"
                },
                {
                  "FFR": 3.2474999999999996,
                  "Tbill": 3.0775,
                  "Tb1yr": 3.53,
                  "_deepnote_index_column": "25%"
                },
                {
                  "FFR": 5.25,
                  "Tbill": 4.955,
                  "Tb1yr": 5.44,
                  "_deepnote_index_column": "50%"
                },
                {
                  "FFR": 7.395,
                  "Tbill": 6.4125,
                  "Tb1yr": 7.302499999999999,
                  "_deepnote_index_column": "75%"
                },
                {
                  "FFR": 17.78,
                  "Tbill": 15.05,
                  "Tb1yr": 16.32,
                  "_deepnote_index_column": "max"
                }
              ],
              "rows_bottom": null
            },
            "text/plain": "              FFR       Tbill       Tb1yr\ncount  212.000000  212.000000  212.000000\nmean     5.545755    5.032547    5.578774\nstd      3.515244    2.993406    3.178313\nmin      0.070000    0.010000    0.110000\n25%      3.247500    3.077500    3.530000\n50%      5.250000    4.955000    5.440000\n75%      7.395000    6.412500    7.302500\nmax     17.780000   15.050000   16.320000",
            "text/html": "<div>\n<style scoped>\n    .dataframe tbody tr th:only-of-type {\n        vertical-align: middle;\n    }\n\n    .dataframe tbody tr th {\n        vertical-align: top;\n    }\n\n    .dataframe thead th {\n        text-align: right;\n    }\n</style>\n<table border=\"1\" class=\"dataframe\">\n  <thead>\n    <tr style=\"text-align: right;\">\n      <th></th>\n      <th>FFR</th>\n      <th>Tbill</th>\n      <th>Tb1yr</th>\n    </tr>\n  </thead>\n  <tbody>\n    <tr>\n      <th>count</th>\n      <td>212.000000</td>\n      <td>212.000000</td>\n      <td>212.000000</td>\n    </tr>\n    <tr>\n      <th>mean</th>\n      <td>5.545755</td>\n      <td>5.032547</td>\n      <td>5.578774</td>\n    </tr>\n    <tr>\n      <th>std</th>\n      <td>3.515244</td>\n      <td>2.993406</td>\n      <td>3.178313</td>\n    </tr>\n    <tr>\n      <th>min</th>\n      <td>0.070000</td>\n      <td>0.010000</td>\n      <td>0.110000</td>\n    </tr>\n    <tr>\n      <th>25%</th>\n      <td>3.247500</td>\n      <td>3.077500</td>\n      <td>3.530000</td>\n    </tr>\n    <tr>\n      <th>50%</th>\n      <td>5.250000</td>\n      <td>4.955000</td>\n      <td>5.440000</td>\n    </tr>\n    <tr>\n      <th>75%</th>\n      <td>7.395000</td>\n      <td>6.412500</td>\n      <td>7.302500</td>\n    </tr>\n    <tr>\n      <th>max</th>\n      <td>17.780000</td>\n      <td>15.050000</td>\n      <td>16.320000</td>\n    </tr>\n  </tbody>\n</table>\n</div>"
          },
          "metadata": {}
        }
      ]
    },
    {
      "cell_type": "markdown",
      "source": "### if you want to get a specific cell in the matrix you can use the .loc[] or .iloc[] methods",
      "metadata": {
        "cell_id": "00027-84c010b3-94a3-400e-8e7b-166ce38e4383",
        "deepnote_cell_type": "markdown"
      }
    },
    {
      "cell_type": "code",
      "metadata": {
        "cell_id": "00028-868460fa-e3f5-456c-a468-cfc979b9fa0b",
        "deepnote_to_be_reexecuted": false,
        "source_hash": "8fa9e96",
        "execution_millis": 58,
        "execution_start": 1619186954196,
        "deepnote_cell_type": "code"
      },
      "source": "df.loc[1,'FFR'] ",
      "execution_count": 69,
      "outputs": [
        {
          "output_type": "execute_result",
          "execution_count": 69,
          "data": {
            "text/plain": "3.7"
          },
          "metadata": {}
        }
      ]
    },
    {
      "cell_type": "markdown",
      "source": "### you can also retrieve the entirety of multiple columns if you want and save them as a new df",
      "metadata": {
        "cell_id": "00029-2fa3b5b6-7ea6-4ce1-84aa-4bd0456eaafc",
        "deepnote_cell_type": "markdown"
      }
    },
    {
      "cell_type": "code",
      "metadata": {
        "cell_id": "00030-0ad46a7d-4b58-4b0e-9fd2-9011177aca41",
        "deepnote_to_be_reexecuted": false,
        "source_hash": "d71ee650",
        "execution_millis": 5,
        "execution_start": 1619186954203,
        "deepnote_cell_type": "code"
      },
      "source": "df_new = df.loc[:,['FFR', 'Tbill']] ",
      "execution_count": 70,
      "outputs": []
    },
    {
      "cell_type": "markdown",
      "source": "### next, let's try to do some more complicated subsetting of the data\n### for example, what if we want the rows that are either the minimum or the maximum value for Unemp column?",
      "metadata": {
        "cell_id": "00031-b01c9b0f-c094-474d-9106-f378d0a7d20b",
        "deepnote_cell_type": "markdown"
      }
    },
    {
      "cell_type": "code",
      "metadata": {
        "cell_id": "00032-c6cbc3af-43bd-4fe3-868c-40f4cc4067ca",
        "deepnote_to_be_reexecuted": false,
        "source_hash": "7174a82b",
        "execution_millis": 1,
        "execution_start": 1619186954217,
        "deepnote_cell_type": "code"
      },
      "source": "max_unemp = df['Unemp'].max()\nmin_unemp = df['Unemp'].min()\nmean_unemp = df['Unemp'].mean()\nmedian_unemp = df['Unemp'].median()\nsd_unemp = df['Unemp'].std()\nvar_unemp = df['Unemp'].var()\nvar_unemp2 = sd_unemp**2",
      "execution_count": 71,
      "outputs": []
    },
    {
      "cell_type": "code",
      "metadata": {
        "cell_id": "00033-a11ee0bb-3f3c-4d77-b07c-086eb403809b",
        "deepnote_to_be_reexecuted": false,
        "source_hash": "bdd6e681",
        "execution_millis": 10,
        "execution_start": 1619186954222,
        "deepnote_cell_type": "code"
      },
      "source": "df_max = df[df['Unemp'] == max_unemp]\ndf_min = df[df['Unemp'] == min_unemp]",
      "execution_count": 72,
      "outputs": []
    },
    {
      "cell_type": "code",
      "metadata": {
        "cell_id": "00034-53600140-7b0c-4341-b15d-6bc67d6a73f3",
        "deepnote_to_be_reexecuted": false,
        "source_hash": "f04622f",
        "execution_millis": 2,
        "execution_start": 1619186954233,
        "deepnote_cell_type": "code"
      },
      "source": "df_min_max = df[(df['Unemp'] == max_unemp) | (df['Unemp'] == min_unemp)]",
      "execution_count": 73,
      "outputs": []
    },
    {
      "cell_type": "markdown",
      "source": "### You can create quite complex conditions to subset your data\n### A lot of the methods discussed during the first lab, such as for and while loops, also work on DataFrames!\n### However, pandas offers some inherent tools that make this much easier",
      "metadata": {
        "cell_id": "00035-df20de97-7eaf-4c14-8c00-fbeacf08b8a1",
        "deepnote_cell_type": "markdown"
      }
    },
    {
      "cell_type": "code",
      "metadata": {
        "cell_id": "00036-4e31d0c9-e5c7-44b4-8ed3-f651ef092021",
        "deepnote_to_be_reexecuted": false,
        "source_hash": "f83a5a88",
        "execution_millis": 77,
        "execution_start": 1619186954236,
        "deepnote_cell_type": "code"
      },
      "source": "for index, row in df.iterrows():\n    print(df.loc[index,'FFR'] + 2)",
      "execution_count": 74,
      "outputs": [
        {
          "name": "stdout",
          "text": "5.93\n5.7\n4.9399999999999995\n4.3\n4.0\n3.73\n3.6799999999999997\n4.4\n4.46\n4.609999999999999\n4.85\n4.92\n4.970000000000001\n4.96\n5.33\n5.45\n5.46\n5.49\n5.46\n5.58\n5.970000000000001\n6.08\n6.07\n6.17\n6.56\n6.91\n7.41\n7.56\n6.82\n5.99\n5.890000000000001\n6.17\n6.79\n7.98\n7.94\n7.92\n8.57\n10.33\n10.98\n10.94\n10.57\n9.879999999999999\n8.7\n7.57\n5.859999999999999\n6.56\n7.47\n6.75\n5.54\n6.3\n6.74\n7.14\n8.54\n9.82\n12.56\n12.0\n11.32\n13.25\n14.09\n11.35\n8.3\n7.42\n8.16\n7.41\n6.83\n7.2\n7.28\n6.87\n6.66\n7.16\n7.82\n8.51\n8.76\n9.280000000000001\n10.1\n11.58\n12.07\n12.18\n12.95\n15.58\n17.05\n14.69\n11.84\n17.85\n18.57\n19.78\n19.58\n15.59\n16.23\n16.509999999999998\n13.01\n11.29\n10.65\n10.8\n11.46\n11.43\n11.69\n12.56\n13.39\n11.27\n10.48\n9.92\n9.9\n10.1\n9.83\n8.92\n8.21\n8.27\n8.219999999999999\n8.65\n8.84\n8.92\n8.66\n9.16\n9.98\n10.47\n11.44\n11.73\n11.08\n10.61\n10.25\n10.24\n10.16\n9.74\n8.43\n7.86\n7.64\n6.82\n6.02\n5.77\n5.26\n5.04\n5.04\n5.0\n5.0600000000000005\n4.99\n5.21\n5.9399999999999995\n6.49\n7.17\n7.81\n8.02\n7.8\n7.72\n7.36\n7.24\n7.31\n7.28\n7.28\n7.52\n7.53\n7.51\n7.52\n7.5\n7.53\n6.86\n6.73\n6.75\n7.09\n7.31\n7.68\n8.27\n8.52\n8.469999999999999\n7.59\n6.33\n5.5\n4.13\n3.73\n3.75\n3.74\n3.44\n3.25\n3.25\n3.02\n3.0\n3.0\n3.01\n3.4299999999999997\n3.95\n4.470000000000001\n4.9399999999999995\n5.46\n5.98\n6.46\n6.91\n7.25\n7.25\n7.26\n7.25\n7.07\n6.5\n5.18\n4.09\n3.94\n2.51\n2.18\n2.18\n2.16\n2.12\n2.13\n2.19\n2.19\n2.19\n2.16\n2.09\n2.08\n2.07\n2.1\n2.15\n2.14\n2.16\n",
          "output_type": "stream"
        }
      ]
    },
    {
      "cell_type": "markdown",
      "source": "### The iterrows function allows you to iterate over the rows of the DataFrame\n### However, iterating over rows is usually not very efficient and the .apply() function can achieve the same much faster",
      "metadata": {
        "cell_id": "00037-270c2db2-ca9f-404e-98a6-0b2a03baa7cb",
        "deepnote_cell_type": "markdown"
      }
    },
    {
      "cell_type": "code",
      "metadata": {
        "cell_id": "00038-091bb4ad-10b7-4cef-8e6b-2c910c25ee67",
        "deepnote_to_be_reexecuted": false,
        "source_hash": "1b5fd787",
        "execution_millis": 28,
        "execution_start": 1619186954307,
        "deepnote_cell_type": "code"
      },
      "source": "df['FFR'].apply(lambda x: x+2)",
      "execution_count": 75,
      "outputs": [
        {
          "output_type": "execute_result",
          "execution_count": 75,
          "data": {
            "text/plain": "0      5.93\n1      5.70\n2      4.94\n3      4.30\n4      4.00\n       ... \n207    2.07\n208    2.10\n209    2.15\n210    2.14\n211    2.16\nName: FFR, Length: 212, dtype: float64"
          },
          "metadata": {}
        }
      ]
    },
    {
      "cell_type": "markdown",
      "source": "### You can use the the apply function to make easy booleans for subsetting",
      "metadata": {
        "cell_id": "00039-c95e2ef1-1556-4579-ba5d-8e2fff21071f",
        "deepnote_cell_type": "markdown"
      }
    },
    {
      "cell_type": "code",
      "metadata": {
        "cell_id": "00040-63c69dd1-c987-4a7d-8c9e-e01f9b0122f8",
        "deepnote_to_be_reexecuted": false,
        "source_hash": "439bf8a4",
        "execution_millis": 2,
        "execution_start": 1619186954322,
        "deepnote_cell_type": "code"
      },
      "source": "df['unemployment_max'] = df['Unemp'].apply(lambda x: x == max_unemp)",
      "execution_count": 76,
      "outputs": []
    },
    {
      "cell_type": "markdown",
      "source": "### Now that we have discussed the fundamentals of working with data, let's try visualise the data",
      "metadata": {
        "cell_id": "00041-2e4af695-f49f-4c43-86fd-567c180695fc",
        "deepnote_cell_type": "markdown"
      }
    },
    {
      "cell_type": "code",
      "metadata": {
        "cell_id": "00042-c5313159-2d2a-45cb-a872-b4ff051f7970",
        "deepnote_to_be_reexecuted": false,
        "source_hash": "ea60b0df",
        "execution_millis": 988,
        "execution_start": 1619186954332,
        "deepnote_cell_type": "code"
      },
      "source": "fig = plt.figure(0,  figsize = [15,10]) ### Figuratively, plt.fig starts a \"canvas\" for you to plot on\nax = fig.add_subplot() ### The actually plotting happens on a subplot of the figure\nax.set_xlabel('Date')\nax.set_ylabel('Unemployment Rate')\nax.set_title('Unemployment over time')\nax.plot(df['DATE'], df['Unemp']) ### Here we select the data for our x and y lables\nax.xaxis.set_tick_params(rotation=45)\nnew_x_ticks = [x for x in list(df['DATE']) if \"Q1\" in x] ### If we use all the date lables for the x ticks, it would be too packed! \nax.set(xticks = new_x_ticks)\nax.grid(True)\nfig.show()",
      "execution_count": 77,
      "outputs": [
        {
          "data": {
            "text/plain": "<Figure size 1080x720 with 1 Axes>",
            "image/png": "[encoded data removed]"
          },
          "metadata": {
            "needs_background": "light"
          },
          "output_type": "display_data"
        }
      ]
    },
    {
      "cell_type": "markdown",
      "source": "### Next, let's try to run a plain OLS regression on the data\n### Since the purpose of this lab is to familiarise you with Python, I will not be covering how to analyse the data proper\n### Instead, I will be showing you how to implement some methods that you have seen in class\n### For a proper analysis using this data have a look at tutorial 8\n### First, let's see if we can see some correlation between Unemployment and the Tbill ",
      "metadata": {
        "cell_id": "00043-0be39880-9c3e-4b01-95e4-ab29de869ca6",
        "deepnote_cell_type": "markdown"
      }
    },
    {
      "cell_type": "code",
      "metadata": {
        "cell_id": "00044-237eefa9-52ca-4c67-8b12-fbc1992dc5f4",
        "deepnote_to_be_reexecuted": false,
        "source_hash": "62ad5bdb",
        "execution_millis": 282,
        "execution_start": 1619186955328,
        "deepnote_cell_type": "code"
      },
      "source": "lim_val = max(df['Tbill'].max(),df['Unemp'].max())+1\nfig1 = plt.figure(1,  figsize = [15,15]) \nax1 = fig1.add_subplot()\nax1.set_xlabel('Tbill')\nax1.set_ylabel('Unemployment')\nax1.set_xlim([-1,lim_val])\nax1.set_ylim([-1,lim_val])\nax1.set_title('Tbill - Unemployment Scatter')\nax1.scatter(df['Tbill'], df['Unemp']) \nax1.grid(True)",
      "execution_count": 78,
      "outputs": [
        {
          "data": {
            "text/plain": "<Figure size 1080x1080 with 1 Axes>",
            "image/png": "[encoded data removed]"
          },
          "metadata": {
            "needs_background": "light"
          },
          "output_type": "display_data"
        }
      ]
    },
    {
      "cell_type": "markdown",
      "source": "### It looks like higher values of Tbill are not really associated with higher values of Unemployment! We get some clusters of low Tbill and high unemployment as well (probably monetary easing)\n### Mean unemployment seemsto be around 6\n### Let's see what OLS will return to us",
      "metadata": {
        "cell_id": "00045-584a6df9-f4c2-4abc-b519-1b0923501590",
        "deepnote_cell_type": "markdown"
      }
    },
    {
      "cell_type": "code",
      "metadata": {
        "cell_id": "00046-5da05ef6-be44-4268-aa03-bfe0078adc93",
        "deepnote_to_be_reexecuted": false,
        "source_hash": "914155e1",
        "execution_millis": 8,
        "execution_start": 1619186955602,
        "deepnote_cell_type": "code"
      },
      "source": "Y = df['Unemp']\nX = df['Tbill']\nX = sm.add_constant(X)\nreg = sm.regression.linear_model.OLS(Y, X, hasconst = True)\nresults = reg.fit()\nresults.summary()",
      "execution_count": 79,
      "outputs": [
        {
          "output_type": "execute_result",
          "execution_count": 79,
          "data": {
            "text/plain": "<class 'statsmodels.iolib.summary.Summary'>\n\"\"\"\n                            OLS Regression Results                            \n==============================================================================\nDep. Variable:                  Unemp   R-squared:                       0.000\nModel:                            OLS   Adj. R-squared:                 -0.005\nMethod:                 Least Squares   F-statistic:                 0.0003423\nDate:                Fri, 23 Apr 2021   Prob (F-statistic):              0.985\nTime:                        14:09:15   Log-Likelihood:                -401.85\nNo. Observations:                 212   AIC:                             807.7\nDf Residuals:                     210   BIC:                             814.4\nDf Model:                           1                                         \nCovariance Type:            nonrobust                                         \n==============================================================================\n                 coef    std err          t      P>|t|      [0.025      0.975]\n------------------------------------------------------------------------------\nconst          6.0854      0.218     27.942      0.000       5.656       6.515\nTbill         -0.0007      0.037     -0.019      0.985      -0.074       0.073\n==============================================================================\nOmnibus:                       14.088   Durbin-Watson:                   0.044\nProb(Omnibus):                  0.001   Jarque-Bera (JB):               15.625\nSkew:                           0.664   Prob(JB):                     0.000405\nKurtosis:                       2.939   Cond. No.                         11.7\n==============================================================================\n\nNotes:\n[1] Standard Errors assume that the covariance matrix of the errors is correctly specified.\n\"\"\"",
            "text/html": "<table class=\"simpletable\">\n<caption>OLS Regression Results</caption>\n<tr>\n  <th>Dep. Variable:</th>          <td>Unemp</td>      <th>  R-squared:         </th> <td>   0.000</td> \n</tr>\n<tr>\n  <th>Model:</th>                   <td>OLS</td>       <th>  Adj. R-squared:    </th> <td>  -0.005</td> \n</tr>\n<tr>\n  <th>Method:</th>             <td>Least Squares</td>  <th>  F-statistic:       </th> <td>0.0003423</td>\n</tr>\n<tr>\n  <th>Date:</th>             <td>Fri, 23 Apr 2021</td> <th>  Prob (F-statistic):</th>  <td> 0.985</td>  \n</tr>\n<tr>\n  <th>Time:</th>                 <td>14:09:15</td>     <th>  Log-Likelihood:    </th> <td> -401.85</td> \n</tr>\n<tr>\n  <th>No. Observations:</th>      <td>   212</td>      <th>  AIC:               </th> <td>   807.7</td> \n</tr>\n<tr>\n  <th>Df Residuals:</th>          <td>   210</td>      <th>  BIC:               </th> <td>   814.4</td> \n</tr>\n<tr>\n  <th>Df Model:</th>              <td>     1</td>      <th>                     </th>     <td> </td>    \n</tr>\n<tr>\n  <th>Covariance Type:</th>      <td>nonrobust</td>    <th>                     </th>     <td> </td>    \n</tr>\n</table>\n<table class=\"simpletable\">\n<tr>\n    <td></td>       <th>coef</th>     <th>std err</th>      <th>t</th>      <th>P>|t|</th>  <th>[0.025</th>    <th>0.975]</th>  \n</tr>\n<tr>\n  <th>const</th> <td>    6.0854</td> <td>    0.218</td> <td>   27.942</td> <td> 0.000</td> <td>    5.656</td> <td>    6.515</td>\n</tr>\n<tr>\n  <th>Tbill</th> <td>   -0.0007</td> <td>    0.037</td> <td>   -0.019</td> <td> 0.985</td> <td>   -0.074</td> <td>    0.073</td>\n</tr>\n</table>\n<table class=\"simpletable\">\n<tr>\n  <th>Omnibus:</th>       <td>14.088</td> <th>  Durbin-Watson:     </th> <td>   0.044</td>\n</tr>\n<tr>\n  <th>Prob(Omnibus):</th> <td> 0.001</td> <th>  Jarque-Bera (JB):  </th> <td>  15.625</td>\n</tr>\n<tr>\n  <th>Skew:</th>          <td> 0.664</td> <th>  Prob(JB):          </th> <td>0.000405</td>\n</tr>\n<tr>\n  <th>Kurtosis:</th>      <td> 2.939</td> <th>  Cond. No.          </th> <td>    11.7</td>\n</tr>\n</table><br/><br/>Notes:<br/>[1] Standard Errors assume that the covariance matrix of the errors is correctly specified."
          },
          "metadata": {}
        }
      ]
    },
    {
      "cell_type": "markdown",
      "source": "### As you can see form the summary results, the fit of the model is pretty egregious\n### You can do the same regression using scikit learn",
      "metadata": {
        "cell_id": "00047-4cf39931-44c8-47b1-8678-7d53f32c8363",
        "deepnote_cell_type": "markdown"
      }
    },
    {
      "cell_type": "code",
      "metadata": {
        "cell_id": "00048-8ffbf542-12a1-4f5a-9f5e-b8cc5c0dc433",
        "deepnote_to_be_reexecuted": false,
        "source_hash": "ed10ca90",
        "execution_millis": 30,
        "execution_start": 1619186955607,
        "deepnote_cell_type": "code"
      },
      "source": "model = linear_model.LinearRegression()\nreg_sk = model.fit(X, Y)\nreg_sk.coef_\nreg_sk.intercept_",
      "execution_count": 80,
      "outputs": [
        {
          "output_type": "execute_result",
          "execution_count": 80,
          "data": {
            "text/plain": "6.085446172349059"
          },
          "metadata": {}
        }
      ]
    },
    {
      "cell_type": "markdown",
      "source": "### Let's try to demean and first difference the data\n### There are many ways to do this, but two ways are",
      "metadata": {
        "cell_id": "00049-2b2e60b7-92c8-4c38-b1c3-06ba95da7e63",
        "deepnote_cell_type": "markdown"
      }
    },
    {
      "cell_type": "code",
      "metadata": {
        "cell_id": "00050-ffdd9f49-7cf6-4833-b9c0-e19f66a933f8",
        "deepnote_to_be_reexecuted": false,
        "source_hash": "5608bb7",
        "execution_millis": 22,
        "execution_start": 1619186955632,
        "deepnote_cell_type": "code"
      },
      "source": "df['Unemp_mean_sub'] = df['Unemp'].apply(lambda x: x - df['Unemp'].mean())\ndf['Tbill_mean_sub'] = df['Tbill'] - df['Tbill'].mean()",
      "execution_count": 81,
      "outputs": []
    },
    {
      "cell_type": "markdown",
      "source": "### It would be possible to first difference by iterating over the rows of the DataFrame, but luckily the statsmodel has a fucntion that does that for us",
      "metadata": {
        "cell_id": "00051-734dee0e-d7cd-4385-bafd-6d3a42017c64",
        "deepnote_cell_type": "markdown"
      }
    },
    {
      "cell_type": "code",
      "metadata": {
        "cell_id": "00052-1626576b-763c-4c79-bcf6-1be29830ceb0",
        "deepnote_to_be_reexecuted": false,
        "source_hash": "1b834fb2",
        "execution_millis": 2,
        "execution_start": 1619186955659,
        "deepnote_cell_type": "code"
      },
      "source": "df['Unemp_fd'] = diff(df['Unemp'], k_diff = 1)\ndf['Tbill_fd'] = diff(df['Tbill'], k_diff = 1)",
      "execution_count": 82,
      "outputs": []
    },
    {
      "cell_type": "code",
      "metadata": {
        "cell_id": "00053-af771f44-237f-444b-a4a7-f0ff2ed9a73f",
        "deepnote_to_be_reexecuted": false,
        "source_hash": "7595f19b",
        "execution_millis": 297,
        "execution_start": 1619186955663,
        "deepnote_cell_type": "code"
      },
      "source": "fig2 = plt.figure(2,  figsize = [15,10])\nax2 = fig2.add_subplot(211) ### The three-digit number here indicates the number of rows, the number of columns, and the index number of the subplot ###\nax2.set_ylabel('Unemployment (De-Meaned)')\nax2.set_title('Unemployment (De-Meaned) over time')\nax2.plot(df['DATE'], df['Unemp_mean_sub'])\nax2.xaxis.set_tick_params(rotation=45)\nax2.set(xticks = new_x_ticks)\nax2.grid(True)\nax2.tick_params(labelbottom=False)",
      "execution_count": 83,
      "outputs": [
        {
          "data": {
            "text/plain": "<Figure size 1080x720 with 1 Axes>",
            "image/png": "[encoded data removed]"
          },
          "metadata": {
            "needs_background": "light"
          },
          "output_type": "display_data"
        }
      ]
    },
    {
      "cell_type": "code",
      "metadata": {
        "cell_id": "00054-c4da26a2-1e9c-4f1e-ab5b-5ba99f95fbc7",
        "deepnote_to_be_reexecuted": false,
        "source_hash": "5c7d916c",
        "execution_millis": 88,
        "execution_start": 1619186955968,
        "deepnote_cell_type": "code"
      },
      "source": "ax3 = fig2.add_subplot(212)\nax3.set_xlabel('Date')\nax3.set_ylabel('Unemployment (First Differenced)')\nax3.set_title('Unemployment (First Differenced) over time')\nax3.plot(df['DATE'], df['Unemp_fd'], c = 'r')\nax3.xaxis.set_tick_params(rotation=45)\nax3.set(xticks = new_x_ticks)\nax3.grid(True)",
      "execution_count": 84,
      "outputs": []
    },
    {
      "cell_type": "markdown",
      "source": "### The de-meaned values don't look very stationary, but the fd values look more promising! Let's do a simple regression on each",
      "metadata": {
        "cell_id": "00055-222915b0-fbc8-4619-917d-163c959de204",
        "deepnote_cell_type": "markdown"
      }
    },
    {
      "cell_type": "code",
      "metadata": {
        "cell_id": "00056-b9bcae8b-2dc0-4beb-9bfe-bb3fdb960980",
        "deepnote_to_be_reexecuted": false,
        "source_hash": "c4fe322e",
        "execution_millis": 30,
        "execution_start": 1619186956064,
        "deepnote_cell_type": "code"
      },
      "source": "Y2 = df['Unemp_mean_sub']\nX2 = df['Tbill_mean_sub']\nX2 = sm.add_constant(X2)\nreg2 = sm.regression.linear_model.OLS(Y2, X2, hasconst = True)\nresults2 = reg2.fit()\nresults2.summary()",
      "execution_count": 85,
      "outputs": [
        {
          "output_type": "execute_result",
          "execution_count": 85,
          "data": {
            "text/plain": "<class 'statsmodels.iolib.summary.Summary'>\n\"\"\"\n                            OLS Regression Results                            \n==============================================================================\nDep. Variable:         Unemp_mean_sub   R-squared:                       0.000\nModel:                            OLS   Adj. R-squared:                 -0.005\nMethod:                 Least Squares   F-statistic:                 0.0003423\nDate:                Fri, 23 Apr 2021   Prob (F-statistic):              0.985\nTime:                        14:09:16   Log-Likelihood:                -401.85\nNo. Observations:                 212   AIC:                             807.7\nDf Residuals:                     210   BIC:                             814.4\nDf Model:                           1                                         \nCovariance Type:            nonrobust                                         \n==================================================================================\n                     coef    std err          t      P>|t|      [0.025      0.975]\n----------------------------------------------------------------------------------\nconst           4.181e-16      0.111   3.76e-15      1.000      -0.219       0.219\nTbill_mean_sub    -0.0007      0.037     -0.019      0.985      -0.074       0.073\n==============================================================================\nOmnibus:                       14.088   Durbin-Watson:                   0.044\nProb(Omnibus):                  0.001   Jarque-Bera (JB):               15.625\nSkew:                           0.664   Prob(JB):                     0.000405\nKurtosis:                       2.939   Cond. No.                         2.99\n==============================================================================\n\nNotes:\n[1] Standard Errors assume that the covariance matrix of the errors is correctly specified.\n\"\"\"",
            "text/html": "<table class=\"simpletable\">\n<caption>OLS Regression Results</caption>\n<tr>\n  <th>Dep. Variable:</th>     <td>Unemp_mean_sub</td>  <th>  R-squared:         </th> <td>   0.000</td> \n</tr>\n<tr>\n  <th>Model:</th>                   <td>OLS</td>       <th>  Adj. R-squared:    </th> <td>  -0.005</td> \n</tr>\n<tr>\n  <th>Method:</th>             <td>Least Squares</td>  <th>  F-statistic:       </th> <td>0.0003423</td>\n</tr>\n<tr>\n  <th>Date:</th>             <td>Fri, 23 Apr 2021</td> <th>  Prob (F-statistic):</th>  <td> 0.985</td>  \n</tr>\n<tr>\n  <th>Time:</th>                 <td>14:09:16</td>     <th>  Log-Likelihood:    </th> <td> -401.85</td> \n</tr>\n<tr>\n  <th>No. Observations:</th>      <td>   212</td>      <th>  AIC:               </th> <td>   807.7</td> \n</tr>\n<tr>\n  <th>Df Residuals:</th>          <td>   210</td>      <th>  BIC:               </th> <td>   814.4</td> \n</tr>\n<tr>\n  <th>Df Model:</th>              <td>     1</td>      <th>                     </th>     <td> </td>    \n</tr>\n<tr>\n  <th>Covariance Type:</th>      <td>nonrobust</td>    <th>                     </th>     <td> </td>    \n</tr>\n</table>\n<table class=\"simpletable\">\n<tr>\n         <td></td>           <th>coef</th>     <th>std err</th>      <th>t</th>      <th>P>|t|</th>  <th>[0.025</th>    <th>0.975]</th>  \n</tr>\n<tr>\n  <th>const</th>          <td> 4.181e-16</td> <td>    0.111</td> <td> 3.76e-15</td> <td> 1.000</td> <td>   -0.219</td> <td>    0.219</td>\n</tr>\n<tr>\n  <th>Tbill_mean_sub</th> <td>   -0.0007</td> <td>    0.037</td> <td>   -0.019</td> <td> 0.985</td> <td>   -0.074</td> <td>    0.073</td>\n</tr>\n</table>\n<table class=\"simpletable\">\n<tr>\n  <th>Omnibus:</th>       <td>14.088</td> <th>  Durbin-Watson:     </th> <td>   0.044</td>\n</tr>\n<tr>\n  <th>Prob(Omnibus):</th> <td> 0.001</td> <th>  Jarque-Bera (JB):  </th> <td>  15.625</td>\n</tr>\n<tr>\n  <th>Skew:</th>          <td> 0.664</td> <th>  Prob(JB):          </th> <td>0.000405</td>\n</tr>\n<tr>\n  <th>Kurtosis:</th>      <td> 2.939</td> <th>  Cond. No.          </th> <td>    2.99</td>\n</tr>\n</table><br/><br/>Notes:<br/>[1] Standard Errors assume that the covariance matrix of the errors is correctly specified."
          },
          "metadata": {}
        }
      ]
    },
    {
      "cell_type": "code",
      "metadata": {
        "cell_id": "00057-799222e5-7a7f-4bee-a8ae-4e47dcd324f4",
        "deepnote_to_be_reexecuted": false,
        "source_hash": "96cbe9b3",
        "execution_millis": 27,
        "execution_start": 1619186956089,
        "deepnote_cell_type": "code"
      },
      "source": "Y3 = df['Unemp_fd']\nX3 = df['Tbill_fd']\nX3 = sm.add_constant(X3)\nreg3 = sm.regression.linear_model.OLS(Y3, X3, missing = 'drop', hasconst = True)\nresults3 = reg3.fit()\nresults3.summary()",
      "execution_count": 86,
      "outputs": [
        {
          "output_type": "execute_result",
          "execution_count": 86,
          "data": {
            "text/plain": "<class 'statsmodels.iolib.summary.Summary'>\n\"\"\"\n                            OLS Regression Results                            \n==============================================================================\nDep. Variable:               Unemp_fd   R-squared:                       0.197\nModel:                            OLS   Adj. R-squared:                  0.193\nMethod:                 Least Squares   F-statistic:                     51.32\nDate:                Fri, 23 Apr 2021   Prob (F-statistic):           1.32e-11\nTime:                        14:09:16   Log-Likelihood:                -47.039\nNo. Observations:                 211   AIC:                             98.08\nDf Residuals:                     209   BIC:                             104.8\nDf Model:                           1                                         \nCovariance Type:            nonrobust                                         \n==============================================================================\n                 coef    std err          t      P>|t|      [0.025      0.975]\n------------------------------------------------------------------------------\nconst          0.0092      0.021      0.440      0.660      -0.032       0.050\nTbill_fd      -0.2003      0.028     -7.164      0.000      -0.255      -0.145\n==============================================================================\nOmnibus:                       60.536   Durbin-Watson:                   0.794\nProb(Omnibus):                  0.000   Jarque-Bera (JB):              178.868\nSkew:                           1.198   Prob(JB):                     1.44e-39\nKurtosis:                       6.822   Cond. No.                         1.34\n==============================================================================\n\nNotes:\n[1] Standard Errors assume that the covariance matrix of the errors is correctly specified.\n\"\"\"",
            "text/html": "<table class=\"simpletable\">\n<caption>OLS Regression Results</caption>\n<tr>\n  <th>Dep. Variable:</th>        <td>Unemp_fd</td>     <th>  R-squared:         </th> <td>   0.197</td>\n</tr>\n<tr>\n  <th>Model:</th>                   <td>OLS</td>       <th>  Adj. R-squared:    </th> <td>   0.193</td>\n</tr>\n<tr>\n  <th>Method:</th>             <td>Least Squares</td>  <th>  F-statistic:       </th> <td>   51.32</td>\n</tr>\n<tr>\n  <th>Date:</th>             <td>Fri, 23 Apr 2021</td> <th>  Prob (F-statistic):</th> <td>1.32e-11</td>\n</tr>\n<tr>\n  <th>Time:</th>                 <td>14:09:16</td>     <th>  Log-Likelihood:    </th> <td> -47.039</td>\n</tr>\n<tr>\n  <th>No. Observations:</th>      <td>   211</td>      <th>  AIC:               </th> <td>   98.08</td>\n</tr>\n<tr>\n  <th>Df Residuals:</th>          <td>   209</td>      <th>  BIC:               </th> <td>   104.8</td>\n</tr>\n<tr>\n  <th>Df Model:</th>              <td>     1</td>      <th>                     </th>     <td> </td>   \n</tr>\n<tr>\n  <th>Covariance Type:</th>      <td>nonrobust</td>    <th>                     </th>     <td> </td>   \n</tr>\n</table>\n<table class=\"simpletable\">\n<tr>\n      <td></td>        <th>coef</th>     <th>std err</th>      <th>t</th>      <th>P>|t|</th>  <th>[0.025</th>    <th>0.975]</th>  \n</tr>\n<tr>\n  <th>const</th>    <td>    0.0092</td> <td>    0.021</td> <td>    0.440</td> <td> 0.660</td> <td>   -0.032</td> <td>    0.050</td>\n</tr>\n<tr>\n  <th>Tbill_fd</th> <td>   -0.2003</td> <td>    0.028</td> <td>   -7.164</td> <td> 0.000</td> <td>   -0.255</td> <td>   -0.145</td>\n</tr>\n</table>\n<table class=\"simpletable\">\n<tr>\n  <th>Omnibus:</th>       <td>60.536</td> <th>  Durbin-Watson:     </th> <td>   0.794</td>\n</tr>\n<tr>\n  <th>Prob(Omnibus):</th> <td> 0.000</td> <th>  Jarque-Bera (JB):  </th> <td> 178.868</td>\n</tr>\n<tr>\n  <th>Skew:</th>          <td> 1.198</td> <th>  Prob(JB):          </th> <td>1.44e-39</td>\n</tr>\n<tr>\n  <th>Kurtosis:</th>      <td> 6.822</td> <th>  Cond. No.          </th> <td>    1.34</td>\n</tr>\n</table><br/><br/>Notes:<br/>[1] Standard Errors assume that the covariance matrix of the errors is correctly specified."
          },
          "metadata": {}
        }
      ]
    },
    {
      "cell_type": "code",
      "metadata": {
        "cell_id": "00058-75ffb8ca-2d0d-4352-b9f4-df78b6d03bfd",
        "deepnote_to_be_reexecuted": false,
        "source_hash": "2f89bd67",
        "execution_millis": 973,
        "execution_start": 1619186956110,
        "deepnote_cell_type": "code"
      },
      "source": "fig3 = plt.figure(3,  figsize = [15,10])\nax3 = fig3.add_subplot()\nax3.set_xlabel('Date')\nax3.grid(True)\nax3.set_xlabel('Date')\nax3.set_ylabel('Residuals')\nax3.set_title('Regression 3 residuals over time')\nax3.plot(df['DATE'][1:], results3.resid)\nax3.xaxis.set_tick_params(rotation=45)\nax3.set(xticks = new_x_ticks)",
      "execution_count": 87,
      "outputs": [
        {
          "output_type": "execute_result",
          "execution_count": 87,
          "data": {
            "text/plain": "[[<matplotlib.axis.XTick at 0x7f2b82fc9ad0>,\n  <matplotlib.axis.XTick at 0x7f2b82fc9cd0>,\n  <matplotlib.axis.XTick at 0x7f2b82fc95d0>,\n  <matplotlib.axis.XTick at 0x7f2b8303bb50>,\n  <matplotlib.axis.XTick at 0x7f2b830f33d0>,\n  <matplotlib.axis.XTick at 0x7f2b830f3c50>,\n  <matplotlib.axis.XTick at 0x7f2b830f3b50>,\n  <matplotlib.axis.XTick at 0x7f2b830f3f10>,\n  <matplotlib.axis.XTick at 0x7f2b830dc910>,\n  <matplotlib.axis.XTick at 0x7f2b830dcbd0>,\n  <matplotlib.axis.XTick at 0x7f2b830d1710>,\n  <matplotlib.axis.XTick at 0x7f2b830d1810>,\n  <matplotlib.axis.XTick at 0x7f2b830c6410>,\n  <matplotlib.axis.XTick at 0x7f2b830d1050>,\n  <matplotlib.axis.XTick at 0x7f2b830d12d0>,\n  <matplotlib.axis.XTick at 0x7f2b830c65d0>,\n  <matplotlib.axis.XTick at 0x7f2b830e63d0>,\n  <matplotlib.axis.XTick at 0x7f2b830e69d0>,\n  <matplotlib.axis.XTick at 0x7f2b830e6b50>,\n  <matplotlib.axis.XTick at 0x7f2b82fb3810>,\n  <matplotlib.axis.XTick at 0x7f2b830e6350>,\n  <matplotlib.axis.XTick at 0x7f2b830e6310>,\n  <matplotlib.axis.XTick at 0x7f2b82fb3390>,\n  <matplotlib.axis.XTick at 0x7f2b82fa2550>,\n  <matplotlib.axis.XTick at 0x7f2b82fa2b50>,\n  <matplotlib.axis.XTick at 0x7f2b82f88390>,\n  <matplotlib.axis.XTick at 0x7f2b82f88990>,\n  <matplotlib.axis.XTick at 0x7f2b82f88a50>,\n  <matplotlib.axis.XTick at 0x7f2b82f884d0>,\n  <matplotlib.axis.XTick at 0x7f2b82fa2050>,\n  <matplotlib.axis.XTick at 0x7f2b82f82450>,\n  <matplotlib.axis.XTick at 0x7f2b82f82cd0>,\n  <matplotlib.axis.XTick at 0x7f2b82f84510>,\n  <matplotlib.axis.XTick at 0x7f2b82f84b10>,\n  <matplotlib.axis.XTick at 0x7f2b82f84c90>,\n  <matplotlib.axis.XTick at 0x7f2b82f84410>,\n  <matplotlib.axis.XTick at 0x7f2b82f825d0>,\n  <matplotlib.axis.XTick at 0x7f2b82fad710>,\n  <matplotlib.axis.XTick at 0x7f2b82fad810>,\n  <matplotlib.axis.XTick at 0x7f2b82bff410>,\n  <matplotlib.axis.XTick at 0x7f2b82bffc90>,\n  <matplotlib.axis.XTick at 0x7f2b82bff7d0>,\n  <matplotlib.axis.XTick at 0x7f2b82fad7d0>,\n  <matplotlib.axis.XTick at 0x7f2b82fad110>,\n  <matplotlib.axis.XTick at 0x7f2b82bec890>,\n  <matplotlib.axis.XTick at 0x7f2b82bec990>,\n  <matplotlib.axis.XTick at 0x7f2b82bf56d0>,\n  <matplotlib.axis.XTick at 0x7f2b82bf57d0>,\n  <matplotlib.axis.XTick at 0x7f2b82bf5950>,\n  <matplotlib.axis.XTick at 0x7f2b82bf5710>,\n  <matplotlib.axis.XTick at 0x7f2b82bec910>,\n  <matplotlib.axis.XTick at 0x7f2b82c02050>,\n  <matplotlib.axis.XTick at 0x7f2b82c0c0d0>]]"
          },
          "metadata": {}
        },
        {
          "data": {
            "text/plain": "<Figure size 1080x720 with 1 Axes>",
            "image/png": "[encoded data removed]"
          },
          "metadata": {
            "needs_background": "light"
          },
          "output_type": "display_data"
        }
      ]
    },
    {
      "cell_type": "markdown",
      "source": "### This looks much better and we might have a chance to use this data!\n### The next step would be to use the Augmented Dickey Fuller test to check for stationarity, which you can find in the code for tutorial 8\n### This concludes lab 4 and I wish you best of luck on the exams!",
      "metadata": {
        "cell_id": "00059-7f5ddfaa-61f1-4696-973f-5a0d00b34188",
        "deepnote_cell_type": "markdown"
      }
    },
    {
      "cell_type": "markdown",
      "source": "<a style='text-decoration:none;line-height:16px;display:flex;color:#5B5B62;padding:10px;justify-content:end;' href='https://deepnote.com?utm_source=created-in-deepnote-cell&projectId=c529b230-40c3-4e30-a486-ecc83c52038f' target=\"_blank\">\n<img alt='Created in deepnote.com' style='display:inline;max-height:16px;margin:0px;margin-right:7.5px;' src='data:image/svg+xml;base64,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' > </img>\nCreated in <span style='font-weight:600;margin-left:4px;'>Deepnote</span></a>",
      "metadata": {
        "tags": [],
        "created_in_deepnote_cell": true,
        "deepnote_cell_type": "markdown"
      }
    }
  ],
  "nbformat": 4,
  "nbformat_minor": 2,
  "metadata": {
    "kernelspec": {
      "display_name": "Python 3",
      "language": "python",
      "name": "python3"
    },
    "language_info": {
      "codemirror_mode": {
        "name": "ipython",
        "version": 3
      },
      "file_extension": ".py",
      "mimetype": "text/x-python",
      "name": "python",
      "nbconvert_exporter": "python",
      "pygments_lexer": "ipython3",
      "version": "3.6.4"
    },
    "deepnote_notebook_id": "3b5c38cb-2e85-4832-b3a4-1463fdd34837",
    "deepnote": {
      "is_reactive": true
    },
    "deepnote_execution_queue": []
  }
}